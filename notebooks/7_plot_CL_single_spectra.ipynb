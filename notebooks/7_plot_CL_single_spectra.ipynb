{
 "cells": [
  {
   "cell_type": "markdown",
   "metadata": {},
   "source": [
    "# Load single spectra\n",
    "\n",
    "To see the emission after scanning (for a Map, for Streak camera acquisiton).\n",
    "To see the emission damage after exposure."
   ]
  },
  {
   "cell_type": "markdown",
   "metadata": {},
   "source": [
    "Import packages:"
   ]
  },
  {
   "cell_type": "code",
   "execution_count": 29,
   "metadata": {},
   "outputs": [],
   "source": [
    "%matplotlib qt\n",
    "import numpy as np\n",
    "import matplotlib.pyplot as plt\n",
    "import seaborn as sns\n",
    "import os, glob\n",
    "sns.set(style='whitegrid', context='paper')\n",
    "import addcopyfighandler"
   ]
  },
  {
   "cell_type": "markdown",
   "metadata": {},
   "source": [
    "## Loading HYPCard files"
   ]
  },
  {
   "cell_type": "code",
   "metadata": {
    "pycharm": {
     "name": "#%%\n"
    }
   },
   "source": [
    "# PARAMS\n",
    "root = os.path.abspath('G:\\My Drive\\PhD')\n",
    "session = r'projects\\external_measurements\\20211118_CL_Mn_doped_NCs_Sascha'\n",
    "stacks_folder = 'STREAK/spectra_after_scan'\n",
    "file_end = '*-V.txt'\n",
    "\n",
    "files = glob.glob(os.path.join(root, session, stacks_folder, file_end))\n",
    "files"
   ],
   "execution_count": 3,
   "outputs": [
    {
     "data": {
      "text/plain": "['G:\\\\My Drive\\\\PhD\\\\projects\\\\external_measurements\\\\20211118_CL_Mn_doped_NCs_Sascha\\\\STREAK/spectra_after_scan\\\\streak2-after-500ms-2021-11-18-17h04m19s-V.txt',\n 'G:\\\\My Drive\\\\PhD\\\\projects\\\\external_measurements\\\\20211118_CL_Mn_doped_NCs_Sascha\\\\STREAK/spectra_after_scan\\\\streak1-after-500ms-2021-11-18-17h07m17s-V.txt',\n 'G:\\\\My Drive\\\\PhD\\\\projects\\\\external_measurements\\\\20211118_CL_Mn_doped_NCs_Sascha\\\\STREAK/spectra_after_scan\\\\streak3-after-500ms-2021-11-18-17h55m10s-V.txt',\n 'G:\\\\My Drive\\\\PhD\\\\projects\\\\external_measurements\\\\20211118_CL_Mn_doped_NCs_Sascha\\\\STREAK/spectra_after_scan\\\\streak101-after-500ms-2021-11-22-16h32m10s-V.txt',\n 'G:\\\\My Drive\\\\PhD\\\\projects\\\\external_measurements\\\\20211118_CL_Mn_doped_NCs_Sascha\\\\STREAK/spectra_after_scan\\\\streak102-after-500ms-2021-11-22-17h02m31s-V.txt',\n 'G:\\\\My Drive\\\\PhD\\\\projects\\\\external_measurements\\\\20211118_CL_Mn_doped_NCs_Sascha\\\\STREAK/spectra_after_scan\\\\streak104-after-500ms-2021-11-22-17h54m06s-V.txt',\n 'G:\\\\My Drive\\\\PhD\\\\projects\\\\external_measurements\\\\20211118_CL_Mn_doped_NCs_Sascha\\\\STREAK/spectra_after_scan\\\\streak4-after-500ms-2021-11-18-19h00m39s-V.txt']"
     },
     "execution_count": 3,
     "metadata": {},
     "output_type": "execute_result"
    }
   ]
  },
  {
   "cell_type": "code",
   "execution_count": 25,
   "metadata": {},
   "outputs": [
    {
     "data": {
      "text/plain": "{'streak2-after-500ms-2021-11-18-17h04m19s-V': [array([201.942, 202.472, 203.002, ..., 749.205, 749.746, 750.286]),\n  array([310., 309., 310., ..., 310., 311., 311.])],\n 'streak1-after-500ms-2021-11-18-17h07m17s-V': [array([201.942, 202.472, 203.002, ..., 749.205, 749.746, 750.286]),\n  array([309., 309., 309., ..., 309., 310., 309.])],\n 'streak3-after-500ms-2021-11-18-17h55m10s-V': [array([202.441, 202.97 , 203.5  , ..., 749.706, 750.247, 750.787]),\n  array([309., 308., 308., ..., 309., 309., 309.])],\n 'streak101-after-500ms-2021-11-22-16h32m10s-V': [array([205.431, 205.961, 206.491, ..., 752.714, 753.254, 753.794]),\n  array([574., 574., 574., ..., 574., 575., 575.])],\n 'streak102-after-500ms-2021-11-22-17h02m31s-V': [array([205.431, 205.961, 206.491, ..., 752.714, 753.254, 753.794]),\n  array([573., 573., 573., ..., 574., 574., 574.])],\n 'streak104-after-500ms-2021-11-22-17h54m06s-V': [array([205.431, 205.961, 206.491, ..., 752.714, 753.254, 753.794]),\n  array([574., 574., 574., ..., 574., 575., 575.])],\n 'streak4-after-500ms-2021-11-18-19h00m39s-V': [array([202.441, 202.97 , 203.5  , ..., 749.706, 750.247, 750.787]),\n  array([306., 306., 306., ..., 306., 306., 307.])]}"
     },
     "execution_count": 25,
     "metadata": {},
     "output_type": "execute_result"
    }
   ],
   "source": [
    "spectra = {}\n",
    "for f in files:\n",
    "    s = np.loadtxt(f)\n",
    "    x = s[:,:1].flatten()\n",
    "    y = s[:,1:].flatten()\n",
    "    key = os.path.basename(f).split('.')[0]\n",
    "    spectra[key] = [x,y]\n",
    "\n",
    "spectra"
   ]
  },
  {
   "cell_type": "markdown",
   "metadata": {},
   "source": [
    "# Plot spectra after scan\n",
    "\n",
    "Plot each map:"
   ]
  },
  {
   "cell_type": "code",
   "execution_count": 33,
   "metadata": {
    "pycharm": {
     "name": "#%%\n"
    }
   },
   "outputs": [],
   "source": [
    "for name, s in spectra.items():\n",
    "    f, axs = plt.subplots(figsize=(4,3))\n",
    "    axs.plot(s[0], s[1])\n",
    "    axs.set_title(name)\n",
    "    axs.set_xlabel('Wavelength (nm)')\n",
    "    plt.tight_layout()"
   ]
  },
  {
   "cell_type": "code",
   "execution_count": null,
   "outputs": [],
   "source": [],
   "metadata": {
    "collapsed": false,
    "pycharm": {
     "name": "#%%\n"
    }
   }
  }
 ],
 "metadata": {
  "kernelspec": {
   "display_name": "Python 3",
   "language": "python",
   "name": "python3"
  },
  "language_info": {
   "codemirror_mode": {
    "name": "ipython",
    "version": 3
   },
   "file_extension": ".py",
   "mimetype": "text/x-python",
   "name": "python",
   "nbconvert_exporter": "python",
   "pygments_lexer": "ipython3",
   "version": "3.7.8"
  }
 },
 "nbformat": 4,
 "nbformat_minor": 4
}