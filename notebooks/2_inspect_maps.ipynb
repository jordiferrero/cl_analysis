{
 "cells": [
  {
   "cell_type": "markdown",
   "metadata": {},
   "source": [
    "# Mean spectra for each scan"
   ]
  },
  {
   "cell_type": "markdown",
   "metadata": {},
   "source": [
    "Import packages:"
   ]
  },
  {
   "cell_type": "code",
   "execution_count": 1,
   "metadata": {},
   "outputs": [
    {
     "name": "stderr",
     "output_type": "stream",
     "text": [
      "WARNING:hyperspy.api:The traitsui GUI elements are not available, probably because the hyperspy_gui_traitsui package is not installed.\n"
     ]
    }
   ],
   "source": [
    "%matplotlib qt\n",
    "#For pop-up window plots, with interactive functionality. If error, use instead %matplotlib tk \n",
    "import lumispy as lum\n",
    "import hyperspy.api as hs\n",
    "import numpy as np\n",
    "import matplotlib.pyplot as plt\n",
    "import seaborn as sns\n",
    "import os\n",
    "sns.set(style='darkgrid')"
   ]
  },
  {
   "cell_type": "markdown",
   "metadata": {},
   "source": [
    "## Loading HYPCard files"
   ]
  },
  {
   "cell_type": "markdown",
   "metadata": {},
   "source": [
    "Use the `load_hypcard` function to load the AttoLight SEM specific files. State the relative path to the `HYPCard.bin` file.\n",
    "\n",
    "*You can also leave the path empty. A pop-up window will appear to select the `HYPCard.bin` file from the browser.*"
   ]
  },
  {
   "cell_type": "code",
   "execution_count": 2,
   "metadata": {},
   "outputs": [
    {
     "data": {
      "text/plain": [
       "[('i=0', 'HYP-MAP02'),\n",
       " ('i=1', 'HYP-MAP03'),\n",
       " ('i=2', 'HYP-MAP05'),\n",
       " ('i=3', 'HYP-MAP06'),\n",
       " ('i=4', 'HYP-MAP07'),\n",
       " ('i=5', 'HYP-MAP08'),\n",
       " ('i=6', 'HYP-MAP09'),\n",
       " ('i=7', 'HYP-MAP102'),\n",
       " ('i=8', 'HYP-MAP103'),\n",
       " ('i=9', 'HYP-MAP104'),\n",
       " ('i=10', 'HYP-MAP105'),\n",
       " ('i=11', 'HYP-MAP106'),\n",
       " ('i=12', 'HYP-MAP107'),\n",
       " ('i=13', 'HYP-MAP108'),\n",
       " ('i=14', 'HYP-MAP109'),\n",
       " ('i=15', 'HYP-MAP10'),\n",
       " ('i=16', 'HYP-MAP110'),\n",
       " ('i=17', 'HYP-MAP11'),\n",
       " ('i=18', 'HYP-MAP12'),\n",
       " ('i=19', 'HYP-MAP13'),\n",
       " ('i=20', 'HYP-MAP14'),\n",
       " ('i=21', 'HYP-MAP15'),\n",
       " ('i=22', 'HYP-MAP16'),\n",
       " ('i=23', 'HYP-MAP17'),\n",
       " ('i=24', 'HYP-MAP18'),\n",
       " ('i=25', 'HYP-MAP19'),\n",
       " ('i=26', 'HYP-MAP20')]"
      ]
     },
     "execution_count": 2,
     "metadata": {},
     "output_type": "execute_result"
    }
   ],
   "source": [
    "# PARAMS\n",
    "root = os.path.abspath(r'G:\\My Drive\\PhD\\projects\\cl_pl_correlation')\n",
    "root = os.path.abspath(r'F:\\HYPCards_PROD')\n",
    "session = r'20220421JORDI'\n",
    "extension = \"*/*card.sur\"\n",
    "#extension = \"*/*processed.hspy\"\n",
    "\n",
    "####\n",
    "# GO TO AUTOMATISED TO GET GENERAL PROCESSED DATA\n",
    "import os, glob\n",
    "folder = os.path.join(root, session)\n",
    "session_path = os.path.join(root, session, extension)\n",
    "# For HYPMaps\n",
    "paths_hypmap = [p for p in glob.glob(session_path, recursive=True) if 'fit'not in p]\n",
    "paths_hypmap.sort()\n",
    "[('i={}'.format(i), os.path.split(os.path.dirname(f))[-1]) for i,f in enumerate(paths_hypmap)]"
   ]
  },
  {
   "cell_type": "code",
   "execution_count": 34,
   "metadata": {
    "collapsed": false,
    "jupyter": {
     "outputs_hidden": false
    },
    "pycharm": {
     "name": "#%%\n"
    }
   },
   "outputs": [],
   "source": [
    "cl = hs.load(paths_hypmap[1], signal_type='CL_SEM')\n",
    "cl.plot()\n",
    "clm = cl.mean()\n",
    "clm.plot()\n",
    "clm_ev = clm.to_eV(inplace=False)\n",
    "clm_ev.plot()"
   ]
  },
  {
   "cell_type": "code",
   "execution_count": 3,
   "metadata": {},
   "outputs": [
    {
     "data": {
      "text/plain": [
       "[<CLSEMSpectrum, title: HYP-MAP01, dimensions: (54, 54|1022)>,\n",
       " <CLSEMSpectrum, title: HYP-MAP02, dimensions: (54, 54|1022)>,\n",
       " <CLSEMSpectrum, title: HYP-MAP03, dimensions: (54, 54|1022)>,\n",
       " <CLSEMSpectrum, title: HYP-MAP04, dimensions: (54, 54|1022)>,\n",
       " <CLSEMSpectrum, title: HYP-MAP05, dimensions: (54, 54|1022)>,\n",
       " <CLSEMSpectrum, title: HYP-MAP06, dimensions: (54, 54|1022)>,\n",
       " <CLSEMSpectrum, title: HYP-MAP07, dimensions: (54, 54|1022)>,\n",
       " <CLSEMSpectrum, title: HYP-MAP08, dimensions: (54, 54|1022)>,\n",
       " <CLSEMSpectrum, title: HYP-MAP09, dimensions: (54, 54|1022)>,\n",
       " <CLSEMSpectrum, title: HYP-MAP09, dimensions: (54, 54|1022)>,\n",
       " <CLSEMSpectrum, title: HYP-MAP10, dimensions: (54, 54|1022)>,\n",
       " <CLSEMSpectrum, title: HYP-MAP11, dimensions: (54, 54|1022)>,\n",
       " <CLSEMSpectrum, title: HYP-MAP12, dimensions: (54, 54|1022)>,\n",
       " <CLSEMSpectrum, title: HYP-MAP13, dimensions: (54, 54|1022)>,\n",
       " <CLSEMSpectrum, title: HYP-MAP14, dimensions: (54, 54|1022)>]"
      ]
     },
     "execution_count": 3,
     "metadata": {},
     "output_type": "execute_result"
    }
   ],
   "source": [
    "cls = hs.load(paths_hypmap, signal_type='CL_SEM')\n",
    "cls"
   ]
  },
  {
   "cell_type": "markdown",
   "metadata": {},
   "source": [
    "# Inspect the maps\n",
    "\n",
    "Plot each map:"
   ]
  },
  {
   "cell_type": "code",
   "execution_count": 4,
   "metadata": {},
   "outputs": [],
   "source": [
    "i = 10\n",
    "cl = cls[i]\n",
    "cl.plot()"
   ]
  },
  {
   "cell_type": "markdown",
   "metadata": {},
   "source": [
    "# OPTIONAL: Remove any remaining spike pixels"
   ]
  },
  {
   "cell_type": "code",
   "execution_count": 54,
   "metadata": {},
   "outputs": [
    {
     "data": {
      "application/vnd.jupyter.widget-view+json": {
       "model_id": "e8ad40aad9af4f5dbbcf735030d9b388",
       "version_major": 2,
       "version_minor": 0
      },
      "text/plain": [
       "HBox(children=(HTML(value=''), FloatProgress(value=0.0, max=510.0), HTML(value='')))"
      ]
     },
     "metadata": {},
     "output_type": "display_data"
    },
    {
     "name": "stdout",
     "output_type": "stream",
     "text": [
      "Decomposition info:\n",
      "  normalize_poissonian_noise=False\n",
      "  algorithm=ORPCA\n",
      "  output_dimension=10\n",
      "  centre=None\n"
     ]
    }
   ],
   "source": [
    "# Load the interactive spikes removal tool\n",
    "cl.decomposition(algorithm=\"ORPCA\", output_dimension=10)"
   ]
  },
  {
   "cell_type": "code",
   "execution_count": 55,
   "metadata": {
    "collapsed": false,
    "jupyter": {
     "outputs_hidden": false
    },
    "pycharm": {
     "name": "#%%\n"
    }
   },
   "outputs": [],
   "source": [
    "cl = cl.get_decomposition_model()\n",
    "cl.plot()"
   ]
  },
  {
   "cell_type": "code",
   "execution_count": 56,
   "metadata": {
    "collapsed": false,
    "jupyter": {
     "outputs_hidden": false
    },
    "pycharm": {
     "name": "#%%\n"
    }
   },
   "outputs": [],
   "source": [
    "# Save the new version\n",
    "p = paths_hypmap[i].split('.')[0] + '_ORPCA.hspy'\n",
    "cl.save(p)"
   ]
  },
  {
   "cell_type": "markdown",
   "metadata": {
    "pycharm": {
     "name": "#%% md\n"
    }
   },
   "source": [
    "# Plotting"
   ]
  },
  {
   "cell_type": "code",
   "execution_count": 17,
   "metadata": {
    "collapsed": false,
    "jupyter": {
     "outputs_hidden": false
    },
    "pycharm": {
     "name": "#%%\n"
    }
   },
   "outputs": [],
   "source": [
    "# Panchromatic\n",
    "cl_pan = cl.T.mean()\n",
    "cl_pan.plot(cmap='viridis')"
   ]
  },
  {
   "cell_type": "code",
   "execution_count": 18,
   "metadata": {
    "collapsed": false,
    "jupyter": {
     "outputs_hidden": false
    },
    "pycharm": {
     "name": "#%%\n"
    }
   },
   "outputs": [],
   "source": [
    "# Sum spectrum\n",
    "cl_s = cl.sum()\n",
    "cl_s.plot()"
   ]
  },
  {
   "cell_type": "markdown",
   "metadata": {
    "pycharm": {
     "name": "#%% md\n"
    }
   },
   "source": [
    "# `eV` units"
   ]
  },
  {
   "cell_type": "code",
   "execution_count": 20,
   "metadata": {
    "collapsed": false,
    "jupyter": {
     "outputs_hidden": false
    },
    "pycharm": {
     "name": "#%%\n"
    }
   },
   "outputs": [],
   "source": [
    "cl_ev = cl.to_eV(inplace=False)"
   ]
  },
  {
   "cell_type": "code",
   "execution_count": 21,
   "metadata": {
    "collapsed": false,
    "jupyter": {
     "outputs_hidden": false
    },
    "pycharm": {
     "name": "#%%\n"
    }
   },
   "outputs": [
    {
     "name": "stderr",
     "output_type": "stream",
     "text": [
      "C:\\Users\\jf631\\miniconda3\\envs\\lumispy\\lib\\site-packages\\hyperspy\\signal.py:3664: UserWarning: You are summing over a non-uniform axis. The result can not be used as an approximation of the integral of the signal. For this functionality, use integrate1D instead.\n",
      "  warnings.warn(\"You are summing over a non-uniform axis. The result \"\n"
     ]
    }
   ],
   "source": [
    "cl_ev.plot()\n",
    "cl_ev_s = cl_ev.sum()\n",
    "cl_ev_s.plot()"
   ]
  },
  {
   "cell_type": "code",
   "execution_count": 27,
   "metadata": {
    "collapsed": false,
    "jupyter": {
     "outputs_hidden": false
    },
    "pycharm": {
     "name": "#%%\n"
    }
   },
   "outputs": [],
   "source": [
    "im = cl.T\n",
    "im.plot()\n",
    "roi1 = hs.roi.SpanROI(left=500, right=550) #sets a digitalbandfilter\n",
    "im_roi1 = roi1.interactive(im, color=\"red\")\n",
    "im_roi1_mean = hs.interactive(im_roi1.mean,\n",
    "                          event=roi1.events.changed,\n",
    "                          recompute_out_event=None)\n",
    "im_roi1_mean.plot(cmap='viridis')"
   ]
  },
  {
   "cell_type": "code",
   "execution_count": 9,
   "metadata": {
    "collapsed": false,
    "jupyter": {
     "outputs_hidden": false
    },
    "pycharm": {
     "name": "#%%\n"
    }
   },
   "outputs": [],
   "source": [
    "# Panchromatic ROIs\n",
    "plot_filtered_pan_im = True\n",
    "base_folder = os.path.dirname(paths_hypmap[13])\n",
    "name = os.path.split(os.path.dirname(paths_hypmap[13]))[-1].split('_')[0]\n",
    "import hyperspy.api as hs\n",
    "roi1 = hs.roi.SpanROI(left=400., right=500.)      #sets a digitalbandfilter for TCHD\n",
    "roi2 = hs.roi.SpanROI(left=590., right=690.)      #sets another digitalbandfilter for PbI2\n",
    "\n",
    "\n",
    "im = cl.T\n",
    "\n",
    "from matplotlib_scalebar.scalebar import ScaleBar\n",
    "fig = plt.figure(figsize=(10,5),)\n",
    "gridsize = (1, 2)\n",
    "plt.matplotlib.gridspec.GridSpec(gridsize[0], gridsize[1])\n",
    "\n",
    "ax1 = plt.subplot2grid(gridsize, (0,0))\n",
    "im1 = ax1.imshow(roi1(im).mean(), cmap='viridis')\n",
    "roi_width = roi1.right - roi1.left\n",
    "roi_centre = roi1.left + 0.5*roi_width\n",
    "ax1.set_title(\"{:.0f} $\\pm$ {:.0f} nm\".format(roi_centre, roi_width/2), color='k')\n",
    "plt.axis('off')\n",
    "plt.colorbar(im1, shrink=0.75, pad=0.02)\n",
    "\n",
    "ax2 = plt.subplot2grid(gridsize, (0,1))\n",
    "im2 = ax2.imshow(roi2(im).mean(), cmap='viridis')\n",
    "roi_width = roi2.right - roi2.left\n",
    "roi_centre = roi2.left + 0.5*roi_width\n",
    "ax2.set_title(\"{:.0f} $\\pm$ {:.0f} nm\".format(roi_centre, roi_width/2), color='k')\n",
    "plt.axis('off')\n",
    "\n",
    "units = roi1(im).mean().axes_manager[0].units\n",
    "scale = roi1(im).mean().axes_manager[0].scale\n",
    "scalebar = ScaleBar(scale, units, location='lower right') # 1 pixel = 0.2 meter\n",
    "plt.gca().add_artist(scalebar)\n",
    "plt.suptitle(roi1(im).mean().metadata.General.title + ' panchromatic')\n",
    "plt.axis('off')\n",
    "\n",
    "plt.colorbar(im2, shrink=0.75, pad=0.02)\n",
    "plt.tight_layout(rect=(0,0.03,1,1))\n",
    "plt.savefig(os.path.join(base_folder, 'im_panchromatic_filter_{}.tiff'.format(name)))\n",
    "#plt.close()"
   ]
  },
  {
   "cell_type": "code",
   "execution_count": 36,
   "metadata": {
    "collapsed": false,
    "jupyter": {
     "outputs_hidden": false
    },
    "pycharm": {
     "name": "#%%\n"
    }
   },
   "outputs": [],
   "source": [
    "im = cl.T\n",
    "im.plot()\n",
    "roi1 = hs.roi.SpanROI(left=700, right=800) #sets a digitalbandfilter\n",
    "im_roi1 = roi1.interactive(im, color=\"red\")\n",
    "im_roi1_mean = hs.interactive(im_roi1.mean,\n",
    "                          event=roi1.events.changed,\n",
    "                          recompute_out_event=None)\n",
    "im_roi1_mean.plot(cmap='viridis')"
   ]
  },
  {
   "cell_type": "code",
   "execution_count": 22,
   "metadata": {},
   "outputs": [
    {
     "data": {
      "text/plain": [
       "SpanROI(left=545.8, right=595.663)"
      ]
     },
     "execution_count": 22,
     "metadata": {},
     "output_type": "execute_result"
    }
   ],
   "source": [
    "roi1"
   ]
  },
  {
   "cell_type": "code",
   "execution_count": null,
   "metadata": {},
   "outputs": [],
   "source": []
  }
 ],
 "metadata": {
  "kernelspec": {
   "display_name": "Python 3",
   "language": "python",
   "name": "python3"
  },
  "language_info": {
   "codemirror_mode": {
    "name": "ipython",
    "version": 3
   },
   "file_extension": ".py",
   "mimetype": "text/x-python",
   "name": "python",
   "nbconvert_exporter": "python",
   "pygments_lexer": "ipython3",
   "version": "3.7.9"
  }
 },
 "nbformat": 4,
 "nbformat_minor": 4
}
