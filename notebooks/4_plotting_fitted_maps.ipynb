{
 "cells": [
  {
   "cell_type": "markdown",
   "metadata": {},
   "source": [
    "# Plotting the fitted maps\n",
    "\n",
    "This notebook is to study and plot the fitted data.\n",
    "\n",
    "It's aim is to:\n",
    "\n",
    "- Plot figures\n",
    "- Get line profiles from different properties of interest and see how they correlate\n"
   ]
  },
  {
   "cell_type": "markdown",
   "metadata": {},
   "source": [
    "Import packages:"
   ]
  },
  {
   "cell_type": "code",
   "execution_count": 365,
   "metadata": {},
   "outputs": [],
   "source": [
    "%matplotlib qt\n",
    "#For pop-up window plots, with interactive functionality. If error, use instead %matplotlib tk \n",
    "import lumispy as lum\n",
    "import hyperspy.api as hs\n",
    "import numpy as np\n",
    "import matplotlib.pyplot as plt\n",
    "import seaborn as sns\n",
    "import os, glob\n",
    "import addcopyfighandler\n",
    "sns.set(style='whitegrid', context='notebook')"
   ]
  },
  {
   "cell_type": "markdown",
   "metadata": {},
   "source": [
    "Use this code to load the fitted models and plot them."
   ]
  },
  {
   "cell_type": "code",
   "execution_count": 277,
   "metadata": {},
   "outputs": [
    {
     "data": {
      "text/plain": "[('i=0', 'HYP-MAP01_binned_11_2_fitted.hspy'),\n ('i=1', 'HYP-MAP02_binned_11_2_fitted.hspy'),\n ('i=2', 'HYP-MAP03_binned_11_2_fitted.hspy'),\n ('i=3', 'HYP-MAP04_binned_11_2_fitted.hspy'),\n ('i=4', 'HYP-MAP05_binned_11_2_fitted.hspy'),\n ('i=5', 'HYP-MAP06_binned_11_2_fitted.hspy'),\n ('i=6', 'HYP-MAP07_binned_11_2_fitted.hspy'),\n ('i=7', 'HYP-MAP08_binned_11_2_fitted.hspy'),\n ('i=8', 'HYP-MAP09_binned_11_2_fitted.hspy'),\n ('i=9', 'HYP-MAP10_binned_11_2_fitted.hspy'),\n ('i=10', 'HYP-MAP11_binned_11_2_fitted.hspy'),\n ('i=11', 'HYP-MAP12_binned_11_2_fitted.hspy'),\n ('i=12', 'HYP-MAP13_binned_11_2_fitted.hspy'),\n ('i=13', 'HYP-MAP14_binned_11_2_fitted.hspy'),\n ('i=14', 'HYP-MAP15_binned_11_2_fitted.hspy'),\n ('i=15', 'HYP-MAP16_binned_11_2_fitted.hspy'),\n ('i=16', 'HYP-MAP17_binned_11_2_fitted.hspy'),\n ('i=17', 'HYP-MAP18_binned_11_2_fitted.hspy'),\n ('i=18', 'HYP-MAP19_binned_11_2_fitted.hspy'),\n ('i=19', 'HYP-MAP20_binned_11_2_fitted.hspy'),\n ('i=20', 'HYP-MAP21_binned_11_2_fitted.hspy'),\n ('i=21', 'HYP-MAP22_binned_11_2_fitted.hspy'),\n ('i=22', 'HYP-MAP23_binned_11_2_fitted.hspy'),\n ('i=23', 'HYP-MAP24_binned_11_2_fitted.hspy'),\n ('i=24', 'HYP-MAP25_binned_11_2_fitted.hspy'),\n ('i=25', 'HYP-MAP26_binned_11_2_fitted.hspy'),\n ('i=26', 'HYP-MAP27_binned_11_2_fitted.hspy'),\n ('i=27', 'HYP-MAP28_binned_11_2_fitted.hspy'),\n ('i=28', 'HYP-MAP29_binned_11_2_fitted.hspy'),\n ('i=29', 'HYP-MAP30_binned_11_2_fitted.hspy')]"
     },
     "execution_count": 277,
     "metadata": {},
     "output_type": "execute_result"
    }
   ],
   "source": [
    "root = os.path.abspath('G:\\My Drive\\PhD\\projects\\external_measurements')\n",
    "session = os.path.relpath(r'20220118-CsAgBiBr3_2D_3D_films')\n",
    "\n",
    "extension = \"*fitted.hspy\"\n",
    "\n",
    "import os, glob\n",
    "folder = os.path.join(root, session, 'fit_imgs')\n",
    "session_path = os.path.join(folder, extension)\n",
    "\n",
    "# For HYPMaps\n",
    "paths_fits = [p for p in glob.glob(session_path, recursive=True)]\n",
    "paths_fits.sort()\n",
    "[('i={}'.format(i), os.path.basename(f)) for i,f in enumerate(paths_fits)]"
   ]
  },
  {
   "cell_type": "code",
   "execution_count": 173,
   "metadata": {
    "collapsed": false,
    "jupyter": {
     "outputs_hidden": false
    },
    "pycharm": {
     "name": "#%%\n"
    }
   },
   "outputs": [
    {
     "name": "stderr",
     "output_type": "stream",
     "text": [
      "C:\\Users\\jf631\\miniconda3\\envs\\lumispy\\lib\\site-packages\\hyperspy\\misc\\utils.py:1134: VisibleDeprecationWarning: The API of the `Polynomial` component will change in v2.0.To use the new API set `legacy=False`.\n",
      "  warnings.warn(msg, VisibleDeprecationWarning)\n",
      "C:\\Users\\jf631\\miniconda3\\envs\\lumispy\\lib\\site-packages\\hyperspy\\signal.py:3664: UserWarning: You are summing over a non-uniform axis. The result can not be used as an approximation of the integral of the signal. For this functionality, use integrate1D instead.\n",
      "  warnings.warn(\"You are summing over a non-uniform axis. The result \"\n"
     ]
    },
    {
     "data": {
      "text/plain": "   # |      Attribute Name |      Component Name |      Component Type\n---- | ------------------- | ------------------- | -------------------\n   0 |          Perovskite |          Perovskite |          Expression\n   1 |      broad_red_peak |      broad_red_peak |          Expression\n   2 |          Polynomial |          Polynomial |          Polynomial"
     },
     "execution_count": 173,
     "metadata": {},
     "output_type": "execute_result"
    }
   ],
   "source": [
    "# Inspect one of the raw data and fit\n",
    "n = 11\n",
    "cl = hs.load(paths_fits[n], signal_type='CL_SEM')\n",
    "m = cl.models.restore(\"gaus_fit\")\n",
    "m.plot(plot_components=True, vmax=10)\n",
    "m.components"
   ]
  },
  {
   "cell_type": "code",
   "execution_count": 174,
   "metadata": {},
   "outputs": [
    {
     "name": "stderr",
     "output_type": "stream",
     "text": [
      "C:\\Users\\jf631\\miniconda3\\envs\\lumispy\\lib\\site-packages\\hyperspy\\misc\\utils.py:1134: VisibleDeprecationWarning: The API of the `Polynomial` component will change in v2.0.To use the new API set `legacy=False`.\n",
      "  warnings.warn(msg, VisibleDeprecationWarning)\n"
     ]
    }
   ],
   "source": [
    "def make_mask_from_h_phase(model_comp, h_threshold=None, plot=False, q_h_threshold=0.1):\n",
    "    h = model_comp.height.as_signal().data\n",
    "    ncols= 2\n",
    "    if h_threshold is None:\n",
    "        h_threshold = np.quantile(h.flatten(), q=q_h_threshold)\n",
    "        ncols +=1\n",
    "\n",
    "    mask_bool = h > h_threshold\n",
    "    if plot:\n",
    "        f, axs = plt.subplots(ncols=ncols, figsize=(3*ncols, 3))\n",
    "        axs[0].imshow(h, cmap='viridis')\n",
    "        axs[1].imshow(mask_bool)\n",
    "        if ncols != 2:\n",
    "            sns.histplot(x=h.flatten(), ax=axs[2], color='C0', kde=True, bins=30)\n",
    "            axs[2].set_title(f'Threshold: {h_threshold:.2f}')\n",
    "            axs[2].vlines(h_threshold, ymin=0, ymax=500, color='C1')\n",
    "        plt.tight_layout()\n",
    "    return mask_bool\n",
    "\n",
    "# Get one of the phase to mask the plots\n",
    "cl = hs.load(paths_fits[n], signal_type='CL_SEM')\n",
    "m = cl.models.restore(\"gaus_fit\")\n",
    "comp = m.components.Perovskite\n",
    "mask = make_mask_from_h_phase(comp, plot=True)"
   ]
  },
  {
   "cell_type": "code",
   "execution_count": 175,
   "outputs": [
    {
     "name": "stderr",
     "output_type": "stream",
     "text": [
      "C:\\Users\\jf631\\miniconda3\\envs\\lumispy\\lib\\site-packages\\hyperspy\\misc\\utils.py:1134: VisibleDeprecationWarning: The API of the `Polynomial` component will change in v2.0.To use the new API set `legacy=False`.\n",
      "  warnings.warn(msg, VisibleDeprecationWarning)\n"
     ]
    }
   ],
   "source": [
    "def make_gaus_parameters_maps(model_comp, cmaps = None, mask=None, sample_name=None, **kwargs):\n",
    "    params = model_comp.parameters\n",
    "    params_signals = [p.as_signal() for p in params]\n",
    "\n",
    "    # Apply mask\n",
    "    if mask is not None:\n",
    "        for s in params_signals:\n",
    "            s.data[~mask] = np.NaN\n",
    "\n",
    "    params_means = [s.T.nanmean().data[0] for s in params_signals]\n",
    "\n",
    "    headings = [p.name for p in params]\n",
    "    titles = [\"{}: {:.2f}\".format(head, v) for head, v in zip(headings, params_means)]\n",
    "\n",
    "    if len(cmaps) != len(params):\n",
    "        cmaps = cmaps[:len(params)]\n",
    "\n",
    "    hs.plot.plot_images(params_signals, label=titles, axes_decor='off', scalebar=[0],\n",
    "                        cmap=cmaps,**kwargs)\n",
    "    plt.suptitle(sample_name)\n",
    "    plt.tight_layout()\n",
    "\n",
    "# Get one of the plots\n",
    "cl = hs.load(paths_fits[n], signal_type='CL_SEM')\n",
    "sample_name = cl.metadata.General.title\n",
    "m = cl.models.restore(\"gaus_fit\")\n",
    "comp1 = m.components.Perovskite\n",
    "comp2 = m.components.broad_red_peak\n",
    "\n",
    "cmaps = ['inferno', 'viridis', 'nipy_spectral_r']\n",
    "vmax = [\"75th\", \"75th\", \"75th\"]\n",
    "#vmin = [0, 0, 1]\n",
    "make_gaus_parameters_maps(comp1, cmaps = cmaps, mask=None, sample_name=None, vmax=vmax,)\n",
    "make_gaus_parameters_maps(comp2, cmaps = cmaps, mask=None, sample_name=None, vmax=vmax,)"
   ],
   "metadata": {
    "collapsed": false,
    "pycharm": {
     "name": "#%%\n"
    }
   }
  },
  {
   "cell_type": "code",
   "execution_count": 258,
   "outputs": [
    {
     "name": "stderr",
     "output_type": "stream",
     "text": [
      "C:\\Users\\jf631\\miniconda3\\envs\\lumispy\\lib\\site-packages\\hyperspy\\misc\\utils.py:1134: VisibleDeprecationWarning: The API of the `Polynomial` component will change in v2.0.To use the new API set `legacy=False`.\n",
      "  warnings.warn(msg, VisibleDeprecationWarning)\n",
      "C:\\Users\\jf631\\miniconda3\\envs\\lumispy\\lib\\site-packages\\hyperspy\\signal.py:2247: RuntimeWarning: divide by zero encountered in true_divide\n",
      "  getattr(sdata, op_name)(odata))\n"
     ]
    },
    {
     "data": {
      "text/plain": "<Signal2D, title: height parameter of Perovskite component, dimensions: (|54, 54)>"
     },
     "execution_count": 258,
     "metadata": {},
     "output_type": "execute_result"
    }
   ],
   "source": [
    "def compute_two_parameters(param1, param2, operation='ratio', clean_up= True, plot=True, histogram=False, **kwargs):\n",
    "    s1, s2 = param1.as_signal(), param2.as_signal()\n",
    "    label = ''\n",
    "    ncols = 1\n",
    "    if operation == 'ratio':\n",
    "        s = s1 / s2\n",
    "        label = '{} ({}) / {} ({})'.format(\n",
    "            param1.component.name, param1.name, param2.component.name, param2.name)\n",
    "    if operation != 'ratio':\n",
    "        raise NotImplementedError(f\"This operation ({operation}) is not yet implemented.\")\n",
    "    if clean_up:\n",
    "        s.data[np.isinf(s)] = np.NaN\n",
    "    if plot:\n",
    "        f = plt.figure()\n",
    "        hs.plot.plot_images(s, label=label, axes_decor='off', scalebar=[0], fig=f, **kwargs)\n",
    "        # Add mean value box\n",
    "        mean = s.T.nanmean().data[0]\n",
    "        props = dict(boxstyle='round', facecolor='white', alpha=0.6)\n",
    "        f.axes[0].text(0.02, 0.95, f'Mean: {mean:.2f}', transform=f.axes[0].transAxes, bbox=props)\n",
    "    if histogram:\n",
    "        ax_ins = f.axes[0].inset_axes([0.6, 0.05, 0.35, 0.2])\n",
    "        # Filter data points which are 0 in the histogram\n",
    "        hist_data = s.data.flatten()\n",
    "        hist_data = hist_data[hist_data != 0]\n",
    "        sns.histplot(x=hist_data, ax=ax_ins, color='C0', kde=True, bins=10)\n",
    "        ax_ins.xaxis.tick_top()\n",
    "        plt.tight_layout()\n",
    "\n",
    "    return s\n",
    "\n",
    "# Get one of the plots\n",
    "cl = hs.load(paths_fits[n], signal_type='CL_SEM')\n",
    "sample_name = cl.metadata.General.title\n",
    "m = cl.models.restore(\"gaus_fit\")\n",
    "\n",
    "c1 = m.components.Perovskite.height\n",
    "c2 = m.components.broad_red_peak.height\n",
    "\n",
    "plt_args = {\n",
    "'cmap' :'viridis',\n",
    "'vmax' : \"75th\",\n",
    "'vmin' : 0,\n",
    "'suptitle': sample_name,\n",
    "}\n",
    "compute_two_parameters(c1, c2, histogram=True, clean_up=True, **plt_args)"
   ],
   "metadata": {
    "collapsed": false,
    "pycharm": {
     "name": "#%%\n"
    }
   }
  },
  {
   "cell_type": "markdown",
   "source": [
    "## Process all maps"
   ],
   "metadata": {
    "collapsed": false,
    "pycharm": {
     "name": "#%% md\n"
    }
   }
  },
  {
   "cell_type": "code",
   "execution_count": 184,
   "outputs": [
    {
     "name": "stdout",
     "output_type": "stream",
     "text": [
      "Folder exists!\n",
      "HYP-MAP01 finished...\n",
      "HYP-MAP02 finished...\n",
      "HYP-MAP03 finished...\n",
      "HYP-MAP04 finished...\n",
      "HYP-MAP05 finished...\n",
      "HYP-MAP06 finished...\n",
      "HYP-MAP07 finished...\n",
      "HYP-MAP08 finished...\n",
      "HYP-MAP09 finished...\n",
      "HYP-MAP10 finished...\n",
      "HYP-MAP11 finished...\n",
      "HYP-MAP12 finished...\n",
      "HYP-MAP13 finished...\n",
      "HYP-MAP14 finished...\n",
      "HYP-MAP15 finished...\n",
      "HYP-MAP16 finished...\n",
      "HYP-MAP17 finished...\n",
      "HYP-MAP18 finished...\n",
      "HYP-MAP19 finished...\n",
      "HYP-MAP20 finished...\n",
      "HYP-MAP21 finished...\n",
      "HYP-MAP22 finished...\n",
      "HYP-MAP23 finished...\n",
      "HYP-MAP24 finished...\n",
      "HYP-MAP25 finished...\n",
      "HYP-MAP26 finished...\n",
      "HYP-MAP27 finished...\n",
      "HYP-MAP28 finished...\n",
      "HYP-MAP29 finished...\n",
      "HYP-MAP30 finished...\n",
      "Finished!\n"
     ]
    },
    {
     "name": "stderr",
     "output_type": "stream",
     "text": [
      "C:\\Users\\jf631\\miniconda3\\envs\\lumispy\\lib\\site-packages\\hyperspy\\misc\\utils.py:1134: VisibleDeprecationWarning: The API of the `Polynomial` component will change in v2.0.To use the new API set `legacy=False`.\n",
      "  warnings.warn(msg, VisibleDeprecationWarning)\n",
      "C:\\Users\\jf631\\miniconda3\\envs\\lumispy\\lib\\site-packages\\hyperspy\\misc\\utils.py:1134: VisibleDeprecationWarning: The API of the `Polynomial` component will change in v2.0.To use the new API set `legacy=False`.\n",
      "  warnings.warn(msg, VisibleDeprecationWarning)\n",
      "C:\\Users\\jf631\\miniconda3\\envs\\lumispy\\lib\\site-packages\\hyperspy\\misc\\utils.py:1134: VisibleDeprecationWarning: The API of the `Polynomial` component will change in v2.0.To use the new API set `legacy=False`.\n",
      "  warnings.warn(msg, VisibleDeprecationWarning)\n",
      "C:\\Users\\jf631\\miniconda3\\envs\\lumispy\\lib\\site-packages\\hyperspy\\misc\\utils.py:1134: VisibleDeprecationWarning: The API of the `Polynomial` component will change in v2.0.To use the new API set `legacy=False`.\n",
      "  warnings.warn(msg, VisibleDeprecationWarning)\n",
      "C:\\Users\\jf631\\miniconda3\\envs\\lumispy\\lib\\site-packages\\hyperspy\\misc\\utils.py:1134: VisibleDeprecationWarning: The API of the `Polynomial` component will change in v2.0.To use the new API set `legacy=False`.\n",
      "  warnings.warn(msg, VisibleDeprecationWarning)\n",
      "C:\\Users\\jf631\\miniconda3\\envs\\lumispy\\lib\\site-packages\\hyperspy\\signal.py:2247: RuntimeWarning: divide by zero encountered in true_divide\n",
      "  getattr(sdata, op_name)(odata))\n",
      "C:\\Users\\jf631\\miniconda3\\envs\\lumispy\\lib\\site-packages\\hyperspy\\misc\\utils.py:1134: VisibleDeprecationWarning: The API of the `Polynomial` component will change in v2.0.To use the new API set `legacy=False`.\n",
      "  warnings.warn(msg, VisibleDeprecationWarning)\n",
      "C:\\Users\\jf631\\miniconda3\\envs\\lumispy\\lib\\site-packages\\hyperspy\\signal.py:2247: RuntimeWarning: divide by zero encountered in true_divide\n",
      "  getattr(sdata, op_name)(odata))\n",
      "C:\\Users\\jf631\\miniconda3\\envs\\lumispy\\lib\\site-packages\\hyperspy\\signal.py:2247: RuntimeWarning: invalid value encountered in true_divide\n",
      "  getattr(sdata, op_name)(odata))\n",
      "C:\\Users\\jf631\\miniconda3\\envs\\lumispy\\lib\\site-packages\\hyperspy\\misc\\utils.py:1134: VisibleDeprecationWarning: The API of the `Polynomial` component will change in v2.0.To use the new API set `legacy=False`.\n",
      "  warnings.warn(msg, VisibleDeprecationWarning)\n",
      "C:\\Users\\jf631\\miniconda3\\envs\\lumispy\\lib\\site-packages\\hyperspy\\signal.py:2247: RuntimeWarning: divide by zero encountered in true_divide\n",
      "  getattr(sdata, op_name)(odata))\n",
      "C:\\Users\\jf631\\miniconda3\\envs\\lumispy\\lib\\site-packages\\hyperspy\\misc\\utils.py:1134: VisibleDeprecationWarning: The API of the `Polynomial` component will change in v2.0.To use the new API set `legacy=False`.\n",
      "  warnings.warn(msg, VisibleDeprecationWarning)\n",
      "C:\\Users\\jf631\\miniconda3\\envs\\lumispy\\lib\\site-packages\\hyperspy\\misc\\utils.py:1134: VisibleDeprecationWarning: The API of the `Polynomial` component will change in v2.0.To use the new API set `legacy=False`.\n",
      "  warnings.warn(msg, VisibleDeprecationWarning)\n",
      "C:\\Users\\jf631\\miniconda3\\envs\\lumispy\\lib\\site-packages\\hyperspy\\signal.py:2247: RuntimeWarning: divide by zero encountered in true_divide\n",
      "  getattr(sdata, op_name)(odata))\n",
      "C:\\Users\\jf631\\miniconda3\\envs\\lumispy\\lib\\site-packages\\hyperspy\\misc\\utils.py:1134: VisibleDeprecationWarning: The API of the `Polynomial` component will change in v2.0.To use the new API set `legacy=False`.\n",
      "  warnings.warn(msg, VisibleDeprecationWarning)\n",
      "C:\\Users\\jf631\\miniconda3\\envs\\lumispy\\lib\\site-packages\\hyperspy\\misc\\utils.py:1134: VisibleDeprecationWarning: The API of the `Polynomial` component will change in v2.0.To use the new API set `legacy=False`.\n",
      "  warnings.warn(msg, VisibleDeprecationWarning)\n",
      "C:\\Users\\jf631\\miniconda3\\envs\\lumispy\\lib\\site-packages\\hyperspy\\misc\\utils.py:1134: VisibleDeprecationWarning: The API of the `Polynomial` component will change in v2.0.To use the new API set `legacy=False`.\n",
      "  warnings.warn(msg, VisibleDeprecationWarning)\n",
      "C:\\Users\\jf631\\miniconda3\\envs\\lumispy\\lib\\site-packages\\hyperspy\\signal.py:2247: RuntimeWarning: divide by zero encountered in true_divide\n",
      "  getattr(sdata, op_name)(odata))\n",
      "C:\\Users\\jf631\\miniconda3\\envs\\lumispy\\lib\\site-packages\\hyperspy\\misc\\utils.py:1134: VisibleDeprecationWarning: The API of the `Polynomial` component will change in v2.0.To use the new API set `legacy=False`.\n",
      "  warnings.warn(msg, VisibleDeprecationWarning)\n",
      "C:\\Users\\jf631\\miniconda3\\envs\\lumispy\\lib\\site-packages\\hyperspy\\signal.py:2247: RuntimeWarning: divide by zero encountered in true_divide\n",
      "  getattr(sdata, op_name)(odata))\n",
      "C:\\Users\\jf631\\miniconda3\\envs\\lumispy\\lib\\site-packages\\hyperspy\\misc\\utils.py:1134: VisibleDeprecationWarning: The API of the `Polynomial` component will change in v2.0.To use the new API set `legacy=False`.\n",
      "  warnings.warn(msg, VisibleDeprecationWarning)\n",
      "C:\\Users\\jf631\\miniconda3\\envs\\lumispy\\lib\\site-packages\\hyperspy\\signal.py:2247: RuntimeWarning: divide by zero encountered in true_divide\n",
      "  getattr(sdata, op_name)(odata))\n",
      "C:\\Users\\jf631\\miniconda3\\envs\\lumispy\\lib\\site-packages\\hyperspy\\signal.py:2247: RuntimeWarning: invalid value encountered in true_divide\n",
      "  getattr(sdata, op_name)(odata))\n",
      "C:\\Users\\jf631\\miniconda3\\envs\\lumispy\\lib\\site-packages\\hyperspy\\misc\\utils.py:1134: VisibleDeprecationWarning: The API of the `Polynomial` component will change in v2.0.To use the new API set `legacy=False`.\n",
      "  warnings.warn(msg, VisibleDeprecationWarning)\n",
      "C:\\Users\\jf631\\miniconda3\\envs\\lumispy\\lib\\site-packages\\hyperspy\\signal.py:2247: RuntimeWarning: invalid value encountered in true_divide\n",
      "  getattr(sdata, op_name)(odata))\n",
      "C:\\Users\\jf631\\miniconda3\\envs\\lumispy\\lib\\site-packages\\seaborn\\distributions.py:305: UserWarning: Dataset has 0 variance; skipping density estimate.\n",
      "  warnings.warn(msg, UserWarning)\n",
      "C:\\Users\\jf631\\miniconda3\\envs\\lumispy\\lib\\site-packages\\hyperspy\\misc\\utils.py:1134: VisibleDeprecationWarning: The API of the `Polynomial` component will change in v2.0.To use the new API set `legacy=False`.\n",
      "  warnings.warn(msg, VisibleDeprecationWarning)\n",
      "C:\\Users\\jf631\\miniconda3\\envs\\lumispy\\lib\\site-packages\\hyperspy\\signal.py:2247: RuntimeWarning: divide by zero encountered in true_divide\n",
      "  getattr(sdata, op_name)(odata))\n",
      "C:\\Users\\jf631\\miniconda3\\envs\\lumispy\\lib\\site-packages\\hyperspy\\misc\\utils.py:1134: VisibleDeprecationWarning: The API of the `Polynomial` component will change in v2.0.To use the new API set `legacy=False`.\n",
      "  warnings.warn(msg, VisibleDeprecationWarning)\n",
      "C:\\Users\\jf631\\miniconda3\\envs\\lumispy\\lib\\site-packages\\hyperspy\\signal.py:2247: RuntimeWarning: divide by zero encountered in true_divide\n",
      "  getattr(sdata, op_name)(odata))\n",
      "C:\\Users\\jf631\\miniconda3\\envs\\lumispy\\lib\\site-packages\\hyperspy\\signal.py:2247: RuntimeWarning: invalid value encountered in true_divide\n",
      "  getattr(sdata, op_name)(odata))\n",
      "C:\\Users\\jf631\\miniconda3\\envs\\lumispy\\lib\\site-packages\\hyperspy\\misc\\utils.py:1134: VisibleDeprecationWarning: The API of the `Polynomial` component will change in v2.0.To use the new API set `legacy=False`.\n",
      "  warnings.warn(msg, VisibleDeprecationWarning)\n",
      "C:\\Users\\jf631\\miniconda3\\envs\\lumispy\\lib\\site-packages\\hyperspy\\misc\\utils.py:1134: VisibleDeprecationWarning: The API of the `Polynomial` component will change in v2.0.To use the new API set `legacy=False`.\n",
      "  warnings.warn(msg, VisibleDeprecationWarning)\n",
      "C:\\Users\\jf631\\miniconda3\\envs\\lumispy\\lib\\site-packages\\hyperspy\\signal.py:2247: RuntimeWarning: divide by zero encountered in true_divide\n",
      "  getattr(sdata, op_name)(odata))\n",
      "C:\\Users\\jf631\\miniconda3\\envs\\lumispy\\lib\\site-packages\\hyperspy\\misc\\utils.py:1134: VisibleDeprecationWarning: The API of the `Polynomial` component will change in v2.0.To use the new API set `legacy=False`.\n",
      "  warnings.warn(msg, VisibleDeprecationWarning)\n",
      "C:\\Users\\jf631\\miniconda3\\envs\\lumispy\\lib\\site-packages\\hyperspy\\misc\\utils.py:1134: VisibleDeprecationWarning: The API of the `Polynomial` component will change in v2.0.To use the new API set `legacy=False`.\n",
      "  warnings.warn(msg, VisibleDeprecationWarning)\n",
      "C:\\Users\\jf631\\miniconda3\\envs\\lumispy\\lib\\site-packages\\hyperspy\\signal.py:2247: RuntimeWarning: divide by zero encountered in true_divide\n",
      "  getattr(sdata, op_name)(odata))\n",
      "C:\\Users\\jf631\\miniconda3\\envs\\lumispy\\lib\\site-packages\\hyperspy\\misc\\utils.py:1134: VisibleDeprecationWarning: The API of the `Polynomial` component will change in v2.0.To use the new API set `legacy=False`.\n",
      "  warnings.warn(msg, VisibleDeprecationWarning)\n",
      "C:\\Users\\jf631\\miniconda3\\envs\\lumispy\\lib\\site-packages\\hyperspy\\misc\\utils.py:1134: VisibleDeprecationWarning: The API of the `Polynomial` component will change in v2.0.To use the new API set `legacy=False`.\n",
      "  warnings.warn(msg, VisibleDeprecationWarning)\n",
      "C:\\Users\\jf631\\miniconda3\\envs\\lumispy\\lib\\site-packages\\hyperspy\\misc\\utils.py:1134: VisibleDeprecationWarning: The API of the `Polynomial` component will change in v2.0.To use the new API set `legacy=False`.\n",
      "  warnings.warn(msg, VisibleDeprecationWarning)\n",
      "C:\\Users\\jf631\\miniconda3\\envs\\lumispy\\lib\\site-packages\\hyperspy\\misc\\utils.py:1134: VisibleDeprecationWarning: The API of the `Polynomial` component will change in v2.0.To use the new API set `legacy=False`.\n",
      "  warnings.warn(msg, VisibleDeprecationWarning)\n",
      "C:\\Users\\jf631\\miniconda3\\envs\\lumispy\\lib\\site-packages\\hyperspy\\misc\\utils.py:1134: VisibleDeprecationWarning: The API of the `Polynomial` component will change in v2.0.To use the new API set `legacy=False`.\n",
      "  warnings.warn(msg, VisibleDeprecationWarning)\n",
      "C:\\Users\\jf631\\miniconda3\\envs\\lumispy\\lib\\site-packages\\hyperspy\\misc\\utils.py:1134: VisibleDeprecationWarning: The API of the `Polynomial` component will change in v2.0.To use the new API set `legacy=False`.\n",
      "  warnings.warn(msg, VisibleDeprecationWarning)\n",
      "C:\\Users\\jf631\\miniconda3\\envs\\lumispy\\lib\\site-packages\\hyperspy\\misc\\utils.py:1134: VisibleDeprecationWarning: The API of the `Polynomial` component will change in v2.0.To use the new API set `legacy=False`.\n",
      "  warnings.warn(msg, VisibleDeprecationWarning)\n",
      "C:\\Users\\jf631\\miniconda3\\envs\\lumispy\\lib\\site-packages\\hyperspy\\misc\\utils.py:1134: VisibleDeprecationWarning: The API of the `Polynomial` component will change in v2.0.To use the new API set `legacy=False`.\n",
      "  warnings.warn(msg, VisibleDeprecationWarning)\n",
      "C:\\Users\\jf631\\miniconda3\\envs\\lumispy\\lib\\site-packages\\hyperspy\\misc\\utils.py:1134: VisibleDeprecationWarning: The API of the `Polynomial` component will change in v2.0.To use the new API set `legacy=False`.\n",
      "  warnings.warn(msg, VisibleDeprecationWarning)\n"
     ]
    }
   ],
   "source": [
    "mask_signals_auto = False\n",
    "save_folder = 'fit_imgs/fit_plots'\n",
    "\n",
    "# Make new folder\n",
    "try:\n",
    "    os.mkdir(os.path.join(root, session, save_folder))\n",
    "except:\n",
    "    print('Folder exists!')\n",
    "    pass\n",
    "\n",
    "for path in paths_fits[:]:\n",
    "    cl = hs.load(path, signal_type='CL_SEM')\n",
    "    sample_name = cl.metadata.General.title\n",
    "    m = cl.models.restore(\"gaus_fit\")\n",
    "\n",
    "    comp1 = m.components.Perovskite\n",
    "    comp2 = m.components.broad_red_peak\n",
    "\n",
    "    if mask_signals_auto:\n",
    "        mask_comp1 = make_mask_from_h_phase(comp1, plot=False)\n",
    "        mask_comp2 = make_mask_from_h_phase(comp2, plot=False)\n",
    "    else:\n",
    "        mask1, mask2 = None, None\n",
    "\n",
    "    plt_args = {\n",
    "        'cmaps' : ['inferno', 'viridis', 'nipy_spectral_r'],\n",
    "        'vmax' : [\"75th\", \"75th\", \"75th\"],\n",
    "        'suptitle': sample_name,\n",
    "        }\n",
    "\n",
    "    make_gaus_parameters_maps(comp1, mask=mask1, **plt_args)\n",
    "    fname = f'{sample_name}_{comp1.name}_param_map.png'\n",
    "    plt.savefig(os.path.join(root, session, save_folder, fname))\n",
    "    plt.savefig(os.path.join(root, session, save_folder, fname.replace('png', 'svg')))\n",
    "    plt.close()\n",
    "    make_gaus_parameters_maps(comp2, mask=mask2, **plt_args)\n",
    "    fname = f'{sample_name}_{comp2.name}_param_map.png'\n",
    "    plt.savefig(os.path.join(root, session, save_folder, fname))\n",
    "    plt.savefig(os.path.join(root, session, save_folder, fname.replace('png', 'svg')))\n",
    "    plt.close()\n",
    "\n",
    "    ratio1 = m.components.Perovskite.height\n",
    "    ratio2 = m.components.broad_red_peak.height\n",
    "\n",
    "    plt_args = {\n",
    "    'cmap' :'viridis',\n",
    "    'vmax' : \"75th\",\n",
    "    'vmin' : 0,\n",
    "    'suptitle': sample_name,\n",
    "    }\n",
    "    compute_two_parameters(ratio1, ratio2, histogram=True, clean_up=True, **plt_args)\n",
    "    fname = f'{sample_name}_ratios_param_map.png'\n",
    "    plt.savefig(os.path.join(root, session, save_folder, fname))\n",
    "    plt.savefig(os.path.join(root, session, save_folder, fname.replace('png', 'svg')))\n",
    "    plt.close()\n",
    "\n",
    "    print(f'{sample_name} finished...')\n",
    "\n",
    "print('Finished!')"
   ],
   "metadata": {
    "collapsed": false,
    "pycharm": {
     "name": "#%%\n"
    }
   }
  },
  {
   "cell_type": "markdown",
   "metadata": {
    "collapsed": false,
    "jupyter": {
     "outputs_hidden": false
    },
    "pycharm": {
     "name": "#%% md\n"
    }
   },
   "source": [
    "# Plot spectra from ROI only"
   ]
  },
  {
   "cell_type": "code",
   "execution_count": 12,
   "metadata": {
    "collapsed": false,
    "jupyter": {
     "outputs_hidden": false
    },
    "pycharm": {
     "name": "#%%\n"
    }
   },
   "outputs": [
    {
     "name": "stderr",
     "output_type": "stream",
     "text": [
      "C:\\Users\\jf631\\miniconda3\\envs\\lumispy\\lib\\site-packages\\hyperspy\\misc\\utils.py:1134: VisibleDeprecationWarning: The API of the `Polynomial` component will change in v2.0.To use the new API set `legacy=False`.\n",
      "  warnings.warn(msg, VisibleDeprecationWarning)\n",
      "C:\\Users\\jf631\\miniconda3\\envs\\lumispy\\lib\\site-packages\\hyperspy\\signal.py:3664: UserWarning: You are summing over a non-uniform axis. The result can not be used as an approximation of the integral of the signal. For this functionality, use integrate1D instead.\n",
      "  warnings.warn(\"You are summing over a non-uniform axis. The result \"\n"
     ]
    },
    {
     "data": {
      "text/plain": "HBox(children=(HTML(value=''), FloatProgress(value=0.0, max=2916.0), HTML(value='')))",
      "application/vnd.jupyter.widget-view+json": {
       "version_major": 2,
       "version_minor": 0,
       "model_id": "c670564abaf54693b0f0744f71171247"
      }
     },
     "metadata": {},
     "output_type": "display_data"
    },
    {
     "name": "stdout",
     "output_type": "stream",
     "text": [
      "<CLSEMSpectrum, title: HYP-MAP11 from fitted model, dimensions: (54, 54|511)>\n",
      "\n"
     ]
    },
    {
     "ename": "ValueError",
     "evalue": "The value is out of the axis limits",
     "output_type": "error",
     "traceback": [
      "\u001B[1;31m---------------------------------------------------------------------------\u001B[0m",
      "\u001B[1;31mValueError\u001B[0m                                Traceback (most recent call last)",
      "\u001B[1;32m<ipython-input-12-7f523100592e>\u001B[0m in \u001B[0;36m<module>\u001B[1;34m\u001B[0m\n\u001B[0;32m     20\u001B[0m \u001B[0mcl_plot_1\u001B[0m\u001B[1;33m.\u001B[0m\u001B[0mplot\u001B[0m\u001B[1;33m(\u001B[0m\u001B[0mcmap\u001B[0m\u001B[1;33m=\u001B[0m\u001B[1;34m'viridis'\u001B[0m\u001B[1;33m)\u001B[0m\u001B[1;33m\u001B[0m\u001B[1;33m\u001B[0m\u001B[0m\n\u001B[0;32m     21\u001B[0m \u001B[1;33m\u001B[0m\u001B[0m\n\u001B[1;32m---> 22\u001B[1;33m \u001B[0mcl_roi1\u001B[0m \u001B[1;33m=\u001B[0m \u001B[0mroi1\u001B[0m\u001B[1;33m.\u001B[0m\u001B[0minteractive\u001B[0m\u001B[1;33m(\u001B[0m\u001B[0mcl_plot_1\u001B[0m\u001B[1;33m,\u001B[0m \u001B[0mcolor\u001B[0m\u001B[1;33m=\u001B[0m\u001B[0mc1\u001B[0m\u001B[1;33m)\u001B[0m\u001B[1;33m\u001B[0m\u001B[1;33m\u001B[0m\u001B[0m\n\u001B[0m\u001B[0;32m     23\u001B[0m \u001B[0mcl_roi2\u001B[0m \u001B[1;33m=\u001B[0m \u001B[0mroi2\u001B[0m\u001B[1;33m.\u001B[0m\u001B[0minteractive\u001B[0m\u001B[1;33m(\u001B[0m\u001B[0mcl_plot_1\u001B[0m\u001B[1;33m,\u001B[0m \u001B[0mcolor\u001B[0m\u001B[1;33m=\u001B[0m\u001B[0mc2\u001B[0m\u001B[1;33m)\u001B[0m\u001B[1;33m\u001B[0m\u001B[1;33m\u001B[0m\u001B[0m\n\u001B[0;32m     24\u001B[0m \u001B[1;33m\u001B[0m\u001B[0m\n",
      "\u001B[1;32m~\\miniconda3\\envs\\lumispy\\lib\\site-packages\\hyperspy\\roi.py\u001B[0m in \u001B[0;36minteractive\u001B[1;34m(self, signal, navigation_signal, out, color, snap, **kwargs)\u001B[0m\n\u001B[0;32m    425\u001B[0m                                \u001B[0mevent\u001B[0m\u001B[1;33m=\u001B[0m\u001B[0mself\u001B[0m\u001B[1;33m.\u001B[0m\u001B[0mevents\u001B[0m\u001B[1;33m.\u001B[0m\u001B[0mchanged\u001B[0m\u001B[1;33m,\u001B[0m\u001B[1;33m\u001B[0m\u001B[1;33m\u001B[0m\u001B[0m\n\u001B[0;32m    426\u001B[0m                                \u001B[0msignal\u001B[0m\u001B[1;33m=\u001B[0m\u001B[0msignal\u001B[0m\u001B[1;33m,\u001B[0m\u001B[1;33m\u001B[0m\u001B[1;33m\u001B[0m\u001B[0m\n\u001B[1;32m--> 427\u001B[1;33m                                **kwargs)\n\u001B[0m\u001B[0;32m    428\u001B[0m         \u001B[1;32melse\u001B[0m\u001B[1;33m:\u001B[0m\u001B[1;33m\u001B[0m\u001B[1;33m\u001B[0m\u001B[0m\n\u001B[0;32m    429\u001B[0m             return interactive(self.__call__,\n",
      "\u001B[1;32m~\\miniconda3\\envs\\lumispy\\lib\\site-packages\\hyperspy\\interactive.py\u001B[0m in \u001B[0;36minteractive\u001B[1;34m(f, event, recompute_out_event, *args, **kwargs)\u001B[0m\n\u001B[0;32m    128\u001B[0m \u001B[1;33m\u001B[0m\u001B[0m\n\u001B[0;32m    129\u001B[0m \u001B[1;32mdef\u001B[0m \u001B[0minteractive\u001B[0m\u001B[1;33m(\u001B[0m\u001B[0mf\u001B[0m\u001B[1;33m,\u001B[0m \u001B[0mevent\u001B[0m\u001B[1;33m=\u001B[0m\u001B[1;34m\"auto\"\u001B[0m\u001B[1;33m,\u001B[0m \u001B[0mrecompute_out_event\u001B[0m\u001B[1;33m=\u001B[0m\u001B[1;34m\"auto\"\u001B[0m\u001B[1;33m,\u001B[0m \u001B[1;33m*\u001B[0m\u001B[0margs\u001B[0m\u001B[1;33m,\u001B[0m \u001B[1;33m**\u001B[0m\u001B[0mkwargs\u001B[0m\u001B[1;33m)\u001B[0m\u001B[1;33m:\u001B[0m\u001B[1;33m\u001B[0m\u001B[1;33m\u001B[0m\u001B[0m\n\u001B[1;32m--> 130\u001B[1;33m     \u001B[0mcls\u001B[0m \u001B[1;33m=\u001B[0m \u001B[0mInteractive\u001B[0m\u001B[1;33m(\u001B[0m\u001B[0mf\u001B[0m\u001B[1;33m,\u001B[0m \u001B[0mevent\u001B[0m\u001B[1;33m,\u001B[0m \u001B[0mrecompute_out_event\u001B[0m\u001B[1;33m,\u001B[0m \u001B[1;33m*\u001B[0m\u001B[0margs\u001B[0m\u001B[1;33m,\u001B[0m \u001B[1;33m**\u001B[0m\u001B[0mkwargs\u001B[0m\u001B[1;33m)\u001B[0m\u001B[1;33m\u001B[0m\u001B[1;33m\u001B[0m\u001B[0m\n\u001B[0m\u001B[0;32m    131\u001B[0m     \u001B[1;32mreturn\u001B[0m \u001B[0mcls\u001B[0m\u001B[1;33m.\u001B[0m\u001B[0mout\u001B[0m\u001B[1;33m\u001B[0m\u001B[1;33m\u001B[0m\u001B[0m\n\u001B[0;32m    132\u001B[0m \u001B[1;33m\u001B[0m\u001B[0m\n",
      "\u001B[1;32m~\\miniconda3\\envs\\lumispy\\lib\\site-packages\\hyperspy\\interactive.py\u001B[0m in \u001B[0;36m__init__\u001B[1;34m(self, f, event, recompute_out_event, *args, **kwargs)\u001B[0m\n\u001B[0;32m     79\u001B[0m             \u001B[0mself\u001B[0m\u001B[1;33m.\u001B[0m\u001B[0mout\u001B[0m \u001B[1;33m=\u001B[0m \u001B[0mself\u001B[0m\u001B[1;33m.\u001B[0m\u001B[0mkwargs\u001B[0m\u001B[1;33m.\u001B[0m\u001B[0mpop\u001B[0m\u001B[1;33m(\u001B[0m\u001B[1;34m'out'\u001B[0m\u001B[1;33m)\u001B[0m\u001B[1;33m\u001B[0m\u001B[1;33m\u001B[0m\u001B[0m\n\u001B[0;32m     80\u001B[0m         \u001B[1;32melse\u001B[0m\u001B[1;33m:\u001B[0m\u001B[1;33m\u001B[0m\u001B[1;33m\u001B[0m\u001B[0m\n\u001B[1;32m---> 81\u001B[1;33m             \u001B[0mself\u001B[0m\u001B[1;33m.\u001B[0m\u001B[0mout\u001B[0m \u001B[1;33m=\u001B[0m \u001B[0mself\u001B[0m\u001B[1;33m.\u001B[0m\u001B[0mf\u001B[0m\u001B[1;33m(\u001B[0m\u001B[1;33m*\u001B[0m\u001B[0mself\u001B[0m\u001B[1;33m.\u001B[0m\u001B[0margs\u001B[0m\u001B[1;33m,\u001B[0m \u001B[1;33m**\u001B[0m\u001B[0mself\u001B[0m\u001B[1;33m.\u001B[0m\u001B[0mkwargs\u001B[0m\u001B[1;33m)\u001B[0m\u001B[1;33m\u001B[0m\u001B[1;33m\u001B[0m\u001B[0m\n\u001B[0m\u001B[0;32m     82\u001B[0m         \u001B[1;31m# Reuse the `_plot_kwargs` for the roi if available\u001B[0m\u001B[1;33m\u001B[0m\u001B[1;33m\u001B[0m\u001B[1;33m\u001B[0m\u001B[0m\n\u001B[0;32m     83\u001B[0m         \u001B[1;32mif\u001B[0m \u001B[0m_plot_kwargs\u001B[0m \u001B[1;32mand\u001B[0m \u001B[1;34m'signal'\u001B[0m \u001B[1;32min\u001B[0m \u001B[0mself\u001B[0m\u001B[1;33m.\u001B[0m\u001B[0mkwargs\u001B[0m\u001B[1;33m:\u001B[0m\u001B[1;33m\u001B[0m\u001B[1;33m\u001B[0m\u001B[0m\n",
      "\u001B[1;32m~\\miniconda3\\envs\\lumispy\\lib\\site-packages\\hyperspy\\roi.py\u001B[0m in \u001B[0;36m__call__\u001B[1;34m(self, signal, out, axes)\u001B[0m\n\u001B[0;32m    202\u001B[0m \u001B[1;33m\u001B[0m\u001B[0m\n\u001B[0;32m    203\u001B[0m         \u001B[0mnatax\u001B[0m \u001B[1;33m=\u001B[0m \u001B[0msignal\u001B[0m\u001B[1;33m.\u001B[0m\u001B[0maxes_manager\u001B[0m\u001B[1;33m.\u001B[0m\u001B[0m_get_axes_in_natural_order\u001B[0m\u001B[1;33m(\u001B[0m\u001B[1;33m)\u001B[0m\u001B[1;33m\u001B[0m\u001B[1;33m\u001B[0m\u001B[0m\n\u001B[1;32m--> 204\u001B[1;33m         \u001B[0mslices\u001B[0m \u001B[1;33m=\u001B[0m \u001B[0mself\u001B[0m\u001B[1;33m.\u001B[0m\u001B[0m_make_slices\u001B[0m\u001B[1;33m(\u001B[0m\u001B[0mnatax\u001B[0m\u001B[1;33m,\u001B[0m \u001B[0maxes\u001B[0m\u001B[1;33m)\u001B[0m\u001B[1;33m\u001B[0m\u001B[1;33m\u001B[0m\u001B[0m\n\u001B[0m\u001B[0;32m    205\u001B[0m         \u001B[0mnav_axes\u001B[0m \u001B[1;33m=\u001B[0m \u001B[1;33m[\u001B[0m\u001B[0max\u001B[0m\u001B[1;33m.\u001B[0m\u001B[0mnavigate\u001B[0m \u001B[1;32mfor\u001B[0m \u001B[0max\u001B[0m \u001B[1;32min\u001B[0m \u001B[0maxes\u001B[0m\u001B[1;33m]\u001B[0m\u001B[1;33m\u001B[0m\u001B[1;33m\u001B[0m\u001B[0m\n\u001B[0;32m    206\u001B[0m         \u001B[0mnav_dim\u001B[0m \u001B[1;33m=\u001B[0m \u001B[0msignal\u001B[0m\u001B[1;33m.\u001B[0m\u001B[0maxes_manager\u001B[0m\u001B[1;33m.\u001B[0m\u001B[0mnavigation_dimension\u001B[0m\u001B[1;33m\u001B[0m\u001B[1;33m\u001B[0m\u001B[0m\n",
      "\u001B[1;32m~\\miniconda3\\envs\\lumispy\\lib\\site-packages\\hyperspy\\roi.py\u001B[0m in \u001B[0;36m_make_slices\u001B[1;34m(self, axes_collection, axes, ranges)\u001B[0m\n\u001B[0;32m    160\u001B[0m                 \u001B[1;32melse\u001B[0m\u001B[1;33m:\u001B[0m\u001B[1;33m\u001B[0m\u001B[1;33m\u001B[0m\u001B[0m\n\u001B[0;32m    161\u001B[0m                     \u001B[1;32mtry\u001B[0m\u001B[1;33m:\u001B[0m\u001B[1;33m\u001B[0m\u001B[1;33m\u001B[0m\u001B[0m\n\u001B[1;32m--> 162\u001B[1;33m                         \u001B[0mihigh\u001B[0m \u001B[1;33m=\u001B[0m \u001B[0max\u001B[0m\u001B[1;33m.\u001B[0m\u001B[0mvalue2index\u001B[0m\u001B[1;33m(\u001B[0m\u001B[0mranges\u001B[0m\u001B[1;33m[\u001B[0m\u001B[0mi\u001B[0m\u001B[1;33m]\u001B[0m\u001B[1;33m[\u001B[0m\u001B[1;36m1\u001B[0m\u001B[1;33m]\u001B[0m\u001B[1;33m)\u001B[0m\u001B[1;33m\u001B[0m\u001B[1;33m\u001B[0m\u001B[0m\n\u001B[0m\u001B[0;32m    163\u001B[0m                     \u001B[1;32mexcept\u001B[0m \u001B[0mValueError\u001B[0m\u001B[1;33m:\u001B[0m\u001B[1;33m\u001B[0m\u001B[1;33m\u001B[0m\u001B[0m\n\u001B[0;32m    164\u001B[0m                         \u001B[1;32mif\u001B[0m \u001B[0mranges\u001B[0m\u001B[1;33m[\u001B[0m\u001B[0mi\u001B[0m\u001B[1;33m]\u001B[0m\u001B[1;33m[\u001B[0m\u001B[1;36m1\u001B[0m\u001B[1;33m]\u001B[0m \u001B[1;33m>\u001B[0m \u001B[0max\u001B[0m\u001B[1;33m.\u001B[0m\u001B[0mhigh_value\u001B[0m\u001B[1;33m:\u001B[0m\u001B[1;33m\u001B[0m\u001B[1;33m\u001B[0m\u001B[0m\n",
      "\u001B[1;32m~\\miniconda3\\envs\\lumispy\\lib\\site-packages\\hyperspy\\axes.py\u001B[0m in \u001B[0;36mvalue2index\u001B[1;34m(self, value, rounding)\u001B[0m\n\u001B[0;32m   1026\u001B[0m                 \u001B[1;32mreturn\u001B[0m \u001B[0mindex\u001B[0m\u001B[1;33m\u001B[0m\u001B[1;33m\u001B[0m\u001B[0m\n\u001B[0;32m   1027\u001B[0m             \u001B[1;32melse\u001B[0m\u001B[1;33m:\u001B[0m\u001B[1;33m\u001B[0m\u001B[1;33m\u001B[0m\u001B[0m\n\u001B[1;32m-> 1028\u001B[1;33m                 \u001B[1;32mraise\u001B[0m \u001B[0mValueError\u001B[0m\u001B[1;33m(\u001B[0m\u001B[1;34m\"The value is out of the axis limits\"\u001B[0m\u001B[1;33m)\u001B[0m\u001B[1;33m\u001B[0m\u001B[1;33m\u001B[0m\u001B[0m\n\u001B[0m\u001B[0;32m   1029\u001B[0m \u001B[1;33m\u001B[0m\u001B[0m\n\u001B[0;32m   1030\u001B[0m     \u001B[1;32mdef\u001B[0m \u001B[0mupdate_axis\u001B[0m\u001B[1;33m(\u001B[0m\u001B[0mself\u001B[0m\u001B[1;33m)\u001B[0m\u001B[1;33m:\u001B[0m\u001B[1;33m\u001B[0m\u001B[1;33m\u001B[0m\u001B[0m\n",
      "\u001B[1;31mValueError\u001B[0m: The value is out of the axis limits"
     ]
    }
   ],
   "source": [
    "n = 1\n",
    "c0 = 'blue'\n",
    "c1 = 'green'\n",
    "c2 = 'red'\n",
    "use_fitted_data = True\n",
    "\n",
    "cl = hs.load(paths_fits[n], signal_type='CL_SEM')\n",
    "m = cl.models.restore(\"gaus_fit\")\n",
    "cl1 = m.as_signal()\n",
    "print(cl1)\n",
    "\n",
    "roi1 = hs.roi.RectangularROI(0,0,0.1,0.1)\n",
    "roi2 = hs.roi.RectangularROI(0.1,0.1,0.2,0.2)\n",
    "\n",
    "if use_fitted_data:\n",
    "    cl_plot_1 = cl1\n",
    "else:\n",
    "    cl_plot_1 = cl\n",
    "\n",
    "cl_plot_1.plot(cmap='viridis')\n",
    "\n",
    "cl_roi1 = roi1.interactive(cl_plot_1, color=c1)\n",
    "cl_roi2 = roi2.interactive(cl_plot_1, color=c2)\n",
    "\n",
    "roi1_mean = hs.interactive(cl_roi1.mean,\n",
    "                          event=roi1.events.changed,\n",
    "                          recompute_out_event=None)\n",
    "\n",
    "roi2_mean = hs.interactive(cl_roi2.mean,\n",
    "                          event=roi2.events.changed,\n",
    "                          recompute_out_event=None)\n",
    "\n",
    "hs.plot.plot_spectra([roi1_mean, roi2_mean], color=[c1, c2])"
   ]
  },
  {
   "cell_type": "markdown",
   "source": [
    "# Load SEM images"
   ],
   "metadata": {
    "collapsed": false,
    "pycharm": {
     "name": "#%% md\n"
    }
   }
  },
  {
   "cell_type": "code",
   "execution_count": 349,
   "outputs": [
    {
     "data": {
      "text/plain": "[('i=0', 'HYP-MAP01'),\n ('i=1', 'HYP-MAP02'),\n ('i=2', 'HYP-MAP03'),\n ('i=3', 'HYP-MAP04'),\n ('i=4', 'HYP-MAP05'),\n ('i=5', 'HYP-MAP06'),\n ('i=6', 'HYP-MAP07'),\n ('i=7', 'HYP-MAP08'),\n ('i=8', 'HYP-MAP09'),\n ('i=9', 'HYP-MAP10'),\n ('i=10', 'HYP-MAP11'),\n ('i=11', 'HYP-MAP12'),\n ('i=12', 'HYP-MAP13'),\n ('i=13', 'HYP-MAP14'),\n ('i=14', 'HYP-MAP15'),\n ('i=15', 'HYP-MAP16'),\n ('i=16', 'HYP-MAP17'),\n ('i=17', 'HYP-MAP18'),\n ('i=18', 'HYP-MAP19'),\n ('i=19', 'HYP-MAP20'),\n ('i=20', 'HYP-MAP21'),\n ('i=21', 'HYP-MAP22'),\n ('i=22', 'HYP-MAP23'),\n ('i=23', 'HYP-MAP24'),\n ('i=24', 'HYP-MAP25'),\n ('i=25', 'HYP-MAP26'),\n ('i=26', 'HYP-MAP27'),\n ('i=27', 'HYP-MAP28'),\n ('i=28', 'HYP-MAP29'),\n ('i=29', 'HYP-MAP30')]"
     },
     "execution_count": 349,
     "metadata": {},
     "output_type": "execute_result"
    }
   ],
   "source": [
    "extension = \"*/*SE_Scan_*-SE.sur\"\n",
    "\n",
    "import os, glob\n",
    "folder = os.path.join(root, session)\n",
    "session_path = os.path.join(folder, extension)\n",
    "\n",
    "# For HYPMaps\n",
    "paths_sems = [p for p in glob.glob(session_path, recursive=True)]\n",
    "paths_sems.sort()\n",
    "[('i={}'.format(i), os.path.dirname(f).split('\\\\')[-1]) for i,f in enumerate(paths_sems)]"
   ],
   "metadata": {
    "collapsed": false,
    "pycharm": {
     "name": "#%%\n"
    }
   }
  },
  {
   "cell_type": "code",
   "execution_count": 350,
   "outputs": [
    {
     "data": {
      "text/plain": "[<Signal2D, title: HYP-MAP01_SE, dimensions: (|54, 54)>,\n <Signal2D, title: HYP-MAP02_SE, dimensions: (|54, 54)>,\n <Signal2D, title: HYP-MAP03_SE, dimensions: (|54, 54)>]"
     },
     "execution_count": 350,
     "metadata": {},
     "output_type": "execute_result"
    }
   ],
   "source": [
    "sems = []\n",
    "for p in paths_sems:\n",
    "    name = \"{}_SE\".format(os.path.dirname(p).split('\\\\')[-1])\n",
    "    s = hs.load(p)\n",
    "    s.metadata.General.title = name\n",
    "    s = s.isig[6:-4,6:-4]\n",
    "    # axs = s.axes_manager.signal_axes\n",
    "    # for ax in axs:\n",
    "    #     ax.offset += 0.0\n",
    "    sems.append(s)\n",
    "\n",
    "sems[:3]"
   ],
   "metadata": {
    "collapsed": false,
    "pycharm": {
     "name": "#%%\n"
    }
   }
  },
  {
   "cell_type": "code",
   "execution_count": 351,
   "outputs": [
    {
     "data": {
      "text/plain": "(<Axes manager, axes: (|54, 54)>\n             Name |   size |  index |  offset |   scale |  units \n ================ | ====== | ====== | ======= | ======= | ====== \n ---------------- | ------ | ------ | ------- | ------- | ------ \n                x |     54 |      0 |     0.3 |    0.05 |     um \n                y |     54 |      0 |     0.3 |    0.05 |     um ,\n <Axes manager, axes: (54, 54|511)>\n             Name |   size |  index |  offset |   scale |  units \n ================ | ====== | ====== | ======= | ======= | ====== \n            Width |     54 |      0 |     0.3 |    0.05 |     um \n           Height |     54 |      0 |     0.3 |    0.05 |     um \n ---------------- | ------ | ------ | ------- | ------- | ------ \n           Energy |    511 |      0 | non-uniform axis |     eV )"
     },
     "execution_count": 351,
     "metadata": {},
     "output_type": "execute_result"
    }
   ],
   "source": [
    "# Check that both axes_manager for signal are the same\n",
    "sems[n].axes_manager, cl.axes_manager"
   ],
   "metadata": {
    "collapsed": false,
    "pycharm": {
     "name": "#%%\n"
    }
   }
  },
  {
   "cell_type": "markdown",
   "source": [
    "# Line scan from specific sample, component and ROI"
   ],
   "metadata": {
    "collapsed": false
   }
  },
  {
   "cell_type": "code",
   "execution_count": 403,
   "outputs": [
    {
     "name": "stderr",
     "output_type": "stream",
     "text": [
      "C:\\Users\\jf631\\miniconda3\\envs\\lumispy\\lib\\site-packages\\hyperspy\\misc\\utils.py:1134: VisibleDeprecationWarning: The API of the `Polynomial` component will change in v2.0.To use the new API set `legacy=False`.\n",
      "  warnings.warn(msg, VisibleDeprecationWarning)\n",
      "C:\\Users\\jf631\\miniconda3\\envs\\lumispy\\lib\\site-packages\\hyperspy\\signal.py:2247: RuntimeWarning: divide by zero encountered in true_divide\n",
      "  getattr(sdata, op_name)(odata))\n",
      "C:\\Users\\jf631\\miniconda3\\envs\\lumispy\\lib\\site-packages\\hyperspy\\signal.py:2247: RuntimeWarning: invalid value encountered in true_divide\n",
      "  getattr(sdata, op_name)(odata))\n"
     ]
    },
    {
     "data": {
      "text/plain": "<Signal2D, title: HYP-MAP14_SE, dimensions: (|50, 1)>"
     },
     "execution_count": 403,
     "metadata": {},
     "output_type": "execute_result"
    }
   ],
   "source": [
    "n = 13\n",
    "# Get one of the plots\n",
    "cl = hs.load(paths_fits[n], signal_type='CL_SEM')\n",
    "sample_name = cl.metadata.General.title\n",
    "sem = sems[n]\n",
    "m = cl.models.restore(\"gaus_fit\")\n",
    "\n",
    "c1 = m.components.Perovskite.height\n",
    "c2 = m.components.broad_red_peak.height\n",
    "\n",
    "c12 = compute_two_parameters(c1, c2, plot=False, clean_up=True)\n",
    "sem.plot()\n",
    "line = hs.roi.RectangularROI(left=0.44928, top=1.89696, right=2.94528, bottom=1.94688)\n",
    "line.interactive(sem)"
   ],
   "metadata": {
    "collapsed": false,
    "pycharm": {
     "name": "#%%\n"
    }
   }
  },
  {
   "cell_type": "code",
   "execution_count": 404,
   "outputs": [
    {
     "name": "stdout",
     "output_type": "stream",
     "text": [
      "RectangularROI(left=0.398701, top=1.5948, right=2.89058, bottom=1.64464)\n"
     ]
    }
   ],
   "source": [
    "print(line)"
   ],
   "metadata": {
    "collapsed": false,
    "pycharm": {
     "name": "#%%\n"
    }
   }
  },
  {
   "cell_type": "code",
   "execution_count": 408,
   "outputs": [
    {
     "name": "stderr",
     "output_type": "stream",
     "text": [
      "C:\\Users\\jf631\\miniconda3\\envs\\lumispy\\lib\\site-packages\\hyperspy\\signal.py:3616: RuntimeWarning: Mean of empty slice\n",
      "  function(self.data, axis=ar_axes,))\n"
     ]
    },
    {
     "name": "stdout",
     "output_type": "stream",
     "text": [
      "RectangularROI(left=0.398701, top=1.5948, right=2.89058, bottom=1.64464)\n"
     ]
    }
   ],
   "source": [
    "f, axs = plt.subplots(figsize=(7,6), nrows=2, sharex=True, gridspec_kw={'height_ratios': [2, 1]})\n",
    "\n",
    "# Get data\n",
    "c12_data = line(c12).nanmean(axis=1).data\n",
    "c1_data = line(c1.as_signal()).nanmean(axis=1).data\n",
    "c2_data = line(c2.as_signal()).nanmean(axis=1).data\n",
    "x = line(c12).nanmean(axis=1).axes_manager.signal_axes[0].axis\n",
    "x_units = line(c12).nanmean(axis=1).axes_manager.signal_axes[0].units\n",
    "\n",
    "se_data = line(sem).nanmean(axis=1).data\n",
    "\n",
    "# Normalise data\n",
    "def normalise(data):\n",
    "    return (data - np.nanmin(data)) / (np.nanmax(data) - np.nanmin(data))\n",
    "\n",
    "axs[0].scatter(x, normalise(c12_data), c='C0', label='Ratio Pvk/Red')\n",
    "axs[0].plot(x, normalise(c1_data), '-', c='C1', label='Perovskite')\n",
    "axs[0].plot(x, normalise(c2_data), '-', c='C2', label='Red phase')\n",
    "axs[0].legend(loc='upper right')\n",
    "axs[0].set_ylabel('Normalised CL intensity')\n",
    "\n",
    "axs[1].plot(x, normalise(se_data),c='k', label='SE signal')\n",
    "axs[1].legend(loc='upper right')\n",
    "axs[1].set_xlabel(f'Distance ({x_units})')\n",
    "axs[1].set_ylabel('Normalised SE')\n",
    "\n",
    "f.suptitle(sample_name)\n",
    "plt.tight_layout()\n",
    "\n",
    "# Plot the SEM with ROI on top\n",
    "sem.plot()\n",
    "line.interactive(sem, color='red')\n",
    "plt.tight_layout()\n",
    "plt.gca().set_title(str(line), fontsize='x-small')\n",
    "print(line)"
   ],
   "metadata": {
    "collapsed": false,
    "pycharm": {
     "name": "#%%\n"
    }
   }
  },
  {
   "cell_type": "code",
   "execution_count": null,
   "outputs": [],
   "source": [],
   "metadata": {
    "collapsed": false,
    "pycharm": {
     "name": "#%%\n"
    }
   }
  }
 ],
 "metadata": {
  "kernelspec": {
   "display_name": "Python 3",
   "language": "python",
   "name": "python3"
  },
  "language_info": {
   "codemirror_mode": {
    "name": "ipython",
    "version": 3
   },
   "file_extension": ".py",
   "mimetype": "text/x-python",
   "name": "python",
   "nbconvert_exporter": "python",
   "pygments_lexer": "ipython3",
   "version": "3.7.9"
  }
 },
 "nbformat": 4,
 "nbformat_minor": 4
}