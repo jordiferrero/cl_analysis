{
 "cells": [
  {
   "cell_type": "markdown",
   "metadata": {},
   "source": [
    "# Sort background files automatically\n",
    "\n",
    "Look for the bkg files in the `BKGS` folder.\n",
    "Look at the timestamp of creation of each file and match them to the `MAP` folder it belongs.\n",
    "\n",
    "*It doesn't work if you modify the `HYPCard.bin` files (modify the date of writing.*"
   ]
  },
  {
   "cell_type": "code",
   "execution_count": 57,
   "metadata": {
    "pycharm": {
     "name": "#%%\n"
    }
   },
   "outputs": [],
   "source": [
    "import numpy as np\n",
    "import os, glob, shutil\n",
    "import datetime"
   ]
  },
  {
   "cell_type": "code",
   "execution_count": 65,
   "outputs": [],
   "source": [
    "root = r'G:\\My Drive\\PhD\\projects\\external_measurements\\20211118_CL_Mn_doped_NCs_Sascha'"
   ],
   "metadata": {
    "collapsed": false,
    "pycharm": {
     "name": "#%%\n"
    }
   }
  },
  {
   "cell_type": "code",
   "execution_count": 113,
   "outputs": [],
   "source": [
    "#Get the creation time of a file from Windows metadata (does not work well)\n",
    "def get_creation_dates(path):\n",
    "    abs_t = os.path.getmtime(path)\n",
    "    t = datetime.datetime.fromtimestamp(abs_t)\n",
    "    return abs_t, t\n",
    "\n",
    "# Get the creation time of a file from file name (does not work well)\n",
    "import re, dateutil\n",
    "def get_creation_dates_from_str(path):\n",
    "    m = re.search(\"([0-9]{4}\\-[0-9]{2}\\-[0-9]{2}\\-[0-9]{2}h[0-9]{2}m[0-9]{2}s)\", path)\n",
    "    t = dateutil.parser.parse(m.group(0))\n",
    "    abs_t = datetime.datetime.timestamp(t)\n",
    "    return abs_t, t"
   ],
   "metadata": {
    "collapsed": false,
    "pycharm": {
     "name": "#%%\n"
    }
   }
  },
  {
   "cell_type": "code",
   "execution_count": 114,
   "outputs": [
    {
     "data": {
      "text/plain": "{'G:\\\\My Drive\\\\PhD\\\\projects\\\\external_measurements\\\\20211118_CL_Mn_doped_NCs_Sascha\\\\BKGS\\\\BG-bkg-50--50ms-2021-11-18-10h40m01s.txt': {'t_stamp': 1637232001.0,\n  't': datetime.datetime(2021, 11, 18, 10, 40, 1)},\n 'G:\\\\My Drive\\\\PhD\\\\projects\\\\external_measurements\\\\20211118_CL_Mn_doped_NCs_Sascha\\\\BKGS\\\\BG-bkg-100ms-100ms-2021-11-18-11h41m04s.txt': {'t_stamp': 1637235664.0,\n  't': datetime.datetime(2021, 11, 18, 11, 41, 4)},\n 'G:\\\\My Drive\\\\PhD\\\\projects\\\\external_measurements\\\\20211118_CL_Mn_doped_NCs_Sascha\\\\BKGS\\\\BG-bkg-250-250ms-2021-11-18-11h50m29s.txt': {'t_stamp': 1637236229.0,\n  't': datetime.datetime(2021, 11, 18, 11, 50, 29)},\n 'G:\\\\My Drive\\\\PhD\\\\projects\\\\external_measurements\\\\20211118_CL_Mn_doped_NCs_Sascha\\\\BKGS\\\\BG-bkg-50ms-50ms-2021-11-18-10h59m39s.txt': {'t_stamp': 1637233179.0,\n  't': datetime.datetime(2021, 11, 18, 10, 59, 39)},\n 'G:\\\\My Drive\\\\PhD\\\\projects\\\\external_measurements\\\\20211118_CL_Mn_doped_NCs_Sascha\\\\BKGS\\\\BG-bkg-500-500ms-2021-11-18-12h24m59s.txt': {'t_stamp': 1637238299.0,\n  't': datetime.datetime(2021, 11, 18, 12, 24, 59)},\n 'G:\\\\My Drive\\\\PhD\\\\projects\\\\external_measurements\\\\20211118_CL_Mn_doped_NCs_Sascha\\\\BKGS\\\\BG-bkg-pm-500ms-500ms-2021-11-18-18h58m26s.txt': {'t_stamp': 1637261906.0,\n  't': datetime.datetime(2021, 11, 18, 18, 58, 26)},\n 'G:\\\\My Drive\\\\PhD\\\\projects\\\\external_measurements\\\\20211118_CL_Mn_doped_NCs_Sascha\\\\BKGS\\\\BG-bkg-pm-500ms-500ms-2021-11-18-17h54m27s.txt': {'t_stamp': 1637258067.0,\n  't': datetime.datetime(2021, 11, 18, 17, 54, 27)},\n 'G:\\\\My Drive\\\\PhD\\\\projects\\\\external_measurements\\\\20211118_CL_Mn_doped_NCs_Sascha\\\\BKGS\\\\BG-bkg-pm-500ms-500ms-2021-11-18-17h06m29s.txt': {'t_stamp': 1637255189.0,\n  't': datetime.datetime(2021, 11, 18, 17, 6, 29)},\n 'G:\\\\My Drive\\\\PhD\\\\projects\\\\external_measurements\\\\20211118_CL_Mn_doped_NCs_Sascha\\\\BKGS\\\\BG-bkg-pm-500ms-500ms-2021-11-18-17h02m50s.txt': {'t_stamp': 1637254970.0,\n  't': datetime.datetime(2021, 11, 18, 17, 2, 50)},\n 'G:\\\\My Drive\\\\PhD\\\\projects\\\\external_measurements\\\\20211118_CL_Mn_doped_NCs_Sascha\\\\BKGS\\\\BG-bkg-pm-200-200ms-2021-11-18-14h19m04s.txt': {'t_stamp': 1637245144.0,\n  't': datetime.datetime(2021, 11, 18, 14, 19, 4)},\n 'G:\\\\My Drive\\\\PhD\\\\projects\\\\external_measurements\\\\20211118_CL_Mn_doped_NCs_Sascha\\\\BKGS\\\\BG-bkg-pm-500ms-500ms-2021-11-18-14h26m24s.txt': {'t_stamp': 1637245584.0,\n  't': datetime.datetime(2021, 11, 18, 14, 26, 24)},\n 'G:\\\\My Drive\\\\PhD\\\\projects\\\\external_measurements\\\\20211118_CL_Mn_doped_NCs_Sascha\\\\BKGS\\\\BG-bkg-pm-500ms-500ms-2021-11-22-15h41m21s.txt': {'t_stamp': 1637595681.0,\n  't': datetime.datetime(2021, 11, 22, 15, 41, 21)},\n 'G:\\\\My Drive\\\\PhD\\\\projects\\\\external_measurements\\\\20211118_CL_Mn_doped_NCs_Sascha\\\\BKGS\\\\BG-bkg-pm-250ms-250ms-2021-11-22-15h29m57s.txt': {'t_stamp': 1637594997.0,\n  't': datetime.datetime(2021, 11, 22, 15, 29, 57)},\n 'G:\\\\My Drive\\\\PhD\\\\projects\\\\external_measurements\\\\20211118_CL_Mn_doped_NCs_Sascha\\\\BKGS\\\\BG-bkg-100ms-100ms-2021-11-22-12h13m47s.txt': {'t_stamp': 1637583227.0,\n  't': datetime.datetime(2021, 11, 22, 12, 13, 47)},\n 'G:\\\\My Drive\\\\PhD\\\\projects\\\\external_measurements\\\\20211118_CL_Mn_doped_NCs_Sascha\\\\BKGS\\\\BG-bkg-50ms-50ms-2021-11-22-13h54m08s.txt': {'t_stamp': 1637589248.0,\n  't': datetime.datetime(2021, 11, 22, 13, 54, 8)},\n 'G:\\\\My Drive\\\\PhD\\\\projects\\\\external_measurements\\\\20211118_CL_Mn_doped_NCs_Sascha\\\\BKGS\\\\BG-bkg-50ms-50ms-2021-11-22-11h29m19s.txt': {'t_stamp': 1637580559.0,\n  't': datetime.datetime(2021, 11, 22, 11, 29, 19)},\n 'G:\\\\My Drive\\\\PhD\\\\projects\\\\external_measurements\\\\20211118_CL_Mn_doped_NCs_Sascha\\\\BKGS\\\\BG-bkg-20ms-50ms-2021-11-22-11h41m40s.txt': {'t_stamp': 1637581300.0,\n  't': datetime.datetime(2021, 11, 22, 11, 41, 40)},\n 'G:\\\\My Drive\\\\PhD\\\\projects\\\\external_measurements\\\\20211118_CL_Mn_doped_NCs_Sascha\\\\BKGS\\\\BG-bkg-50ms-50ms-2021-11-22-11h17m29s.txt': {'t_stamp': 1637579849.0,\n  't': datetime.datetime(2021, 11, 22, 11, 17, 29)},\n 'G:\\\\My Drive\\\\PhD\\\\projects\\\\external_measurements\\\\20211118_CL_Mn_doped_NCs_Sascha\\\\BKGS\\\\BG-bkg-pm-250ms-250ms-2021-11-22-15h29m33s.txt': {'t_stamp': 1637594973.0,\n  't': datetime.datetime(2021, 11, 22, 15, 29, 33)}}"
     },
     "execution_count": 114,
     "metadata": {},
     "output_type": "execute_result"
    }
   ],
   "source": [
    "# Get a list of the bkgs files and their creation time\n",
    "bkgs_folder = os.path.join(root, 'BKGS')\n",
    "\n",
    "bkgs = glob.glob(os.path.join(bkgs_folder, '*.txt'))\n",
    "bkgs = [bkg for bkg in bkgs if '-V' not in bkg]\n",
    "\n",
    "bkgs_dict = {}\n",
    "for bkg in bkgs:\n",
    "    abs_t, t = get_creation_dates_from_str(bkg)\n",
    "    bkgs_dict[bkg] = {'t_stamp': abs_t, 't': t}\n",
    "\n",
    "bkgs_dict"
   ],
   "metadata": {
    "collapsed": false,
    "pycharm": {
     "name": "#%%\n"
    }
   }
  },
  {
   "cell_type": "code",
   "execution_count": 119,
   "outputs": [
    {
     "data": {
      "text/plain": "{'G:\\\\My Drive\\\\PhD\\\\projects\\\\external_measurements\\\\20211118_CL_Mn_doped_NCs_Sascha\\\\HYP-MAP1\\\\HYPCard.bin': {'t_stamp': 1637235816.0,\n  't': datetime.datetime(2021, 11, 18, 11, 43, 36)},\n 'G:\\\\My Drive\\\\PhD\\\\projects\\\\external_measurements\\\\20211118_CL_Mn_doped_NCs_Sascha\\\\HYP-MAP3\\\\HYPCard.bin': {'t_stamp': 1637237322.0,\n  't': datetime.datetime(2021, 11, 18, 12, 8, 42)},\n 'G:\\\\My Drive\\\\PhD\\\\projects\\\\external_measurements\\\\20211118_CL_Mn_doped_NCs_Sascha\\\\HYP-MAP5\\\\HYPCard.bin': {'t_stamp': 1637240404.0,\n  't': datetime.datetime(2021, 11, 18, 13, 0, 4)},\n 'G:\\\\My Drive\\\\PhD\\\\projects\\\\external_measurements\\\\20211118_CL_Mn_doped_NCs_Sascha\\\\HYP-MAP8\\\\HYPCard.bin': {'t_stamp': 1637247172.0,\n  't': datetime.datetime(2021, 11, 18, 14, 52, 52)},\n 'G:\\\\My Drive\\\\PhD\\\\projects\\\\external_measurements\\\\20211118_CL_Mn_doped_NCs_Sascha\\\\HYP-MAP7\\\\HYPCard.bin': {'t_stamp': 1637246142.0,\n  't': datetime.datetime(2021, 11, 18, 14, 35, 42)},\n 'G:\\\\My Drive\\\\PhD\\\\projects\\\\external_measurements\\\\20211118_CL_Mn_doped_NCs_Sascha\\\\HYP-MAP110\\\\HYPCard.bin': {'t_stamp': 1637596242.0,\n  't': datetime.datetime(2021, 11, 22, 15, 50, 42)},\n 'G:\\\\My Drive\\\\PhD\\\\projects\\\\external_measurements\\\\20211118_CL_Mn_doped_NCs_Sascha\\\\HYP-MAP107\\\\HYPCard.bin': {'t_stamp': 1637591202.0,\n  't': datetime.datetime(2021, 11, 22, 14, 26, 42)},\n 'G:\\\\My Drive\\\\PhD\\\\projects\\\\external_measurements\\\\20211118_CL_Mn_doped_NCs_Sascha\\\\HYP-MAP106\\\\HYPCard.bin': {'t_stamp': 1637590102.0,\n  't': datetime.datetime(2021, 11, 22, 14, 8, 22)},\n 'G:\\\\My Drive\\\\PhD\\\\projects\\\\external_measurements\\\\20211118_CL_Mn_doped_NCs_Sascha\\\\HYP-MAP105\\\\HYPCard.bin': {'t_stamp': 1637588902.0,\n  't': datetime.datetime(2021, 11, 22, 13, 48, 22)},\n 'G:\\\\My Drive\\\\PhD\\\\projects\\\\external_measurements\\\\20211118_CL_Mn_doped_NCs_Sascha\\\\HYP-MAP103\\\\HYPCard.bin': {'t_stamp': 1637586090.0,\n  't': datetime.datetime(2021, 11, 22, 13, 1, 30)},\n 'G:\\\\My Drive\\\\PhD\\\\projects\\\\external_measurements\\\\20211118_CL_Mn_doped_NCs_Sascha\\\\HYP-MAP102\\\\HYPCard.bin': {'t_stamp': 1637584324.0,\n  't': datetime.datetime(2021, 11, 22, 12, 32, 4)},\n 'G:\\\\My Drive\\\\PhD\\\\projects\\\\external_measurements\\\\20211118_CL_Mn_doped_NCs_Sascha\\\\HYP-MAP104\\\\HYPCard.bin': {'t_stamp': 1637588254.0,\n  't': datetime.datetime(2021, 11, 22, 13, 37, 34)},\n 'G:\\\\My Drive\\\\PhD\\\\projects\\\\external_measurements\\\\20211118_CL_Mn_doped_NCs_Sascha\\\\HYP-MAP101\\\\HYPCard.bin': {'t_stamp': 1637583698.0,\n  't': datetime.datetime(2021, 11, 22, 12, 21, 38)}}"
     },
     "execution_count": 119,
     "metadata": {},
     "output_type": "execute_result"
    }
   ],
   "source": [
    "# Find all the HYP maps and their creation time too\n",
    "hyp_maps = glob.glob(os.path.join(root,'*/HYPCard.bin'))\n",
    "hyp_maps\n",
    "\n",
    "hyp_maps_dict = {}\n",
    "for hyp_map in hyp_maps:\n",
    "    abs_t, t = get_creation_dates(hyp_map)\n",
    "    hyp_maps_dict[hyp_map] = {'t_stamp': abs_t, 't': t}\n",
    "\n",
    "hyp_maps_dict"
   ],
   "metadata": {
    "collapsed": false,
    "pycharm": {
     "name": "#%%\n"
    }
   }
  },
  {
   "cell_type": "code",
   "execution_count": 120,
   "outputs": [],
   "source": [
    "for hyp_map in hyp_maps:\n",
    "    folder = os.path.dirname(hyp_map)\n",
    "    to_remove = glob.glob(os.path.join(folder, 'BG*.txt'))\n",
    "    if len(to_remove) == 1:\n",
    "        os.remove(to_remove[0])\n",
    "    else:\n",
    "        [os.remove(f) for f in to_remove]"
   ],
   "metadata": {
    "collapsed": false,
    "pycharm": {
     "name": "#%% Remove all BKG files in the HPY map folders\n"
    }
   }
  },
  {
   "cell_type": "code",
   "execution_count": 121,
   "outputs": [],
   "source": [
    "# Get the time list of the bkg files\n",
    "bkgs_ts = [value['t_stamp'] for value in bkgs_dict.values()]\n",
    "\n",
    "for hyp_map_path, hyp_map_ts in hyp_maps_dict.items():\n",
    "    # Find closest file\n",
    "    t_hypmap = hyp_map_ts['t_stamp']\n",
    "    t_diff = [t_hypmap - bkgs_t for bkgs_t in bkgs_ts]\n",
    "    t_min = min([i for i in t_diff if i > 0])\n",
    "    index = t_diff.index(t_min)\n",
    "    # print(index)\n",
    "    # print(t_min)\n",
    "    # print(datetime.datetime.fromtimestamp(bkgs_ts[index]),\n",
    "    #       datetime.datetime.fromtimestamp(t_hypmap))\n",
    "\n",
    "\n",
    "    # Copy and paste bkg file in original folder\n",
    "    bkg_path = [k for k in bkgs_dict.keys()][index]\n",
    "    new_path = os.path.join(os.path.dirname(hyp_map_path), os.path.basename(bkg_path))\n",
    "    shutil.copy2(bkg_path, new_path)\n"
   ],
   "metadata": {
    "collapsed": false,
    "pycharm": {
     "name": "#%%\n"
    }
   }
  },
  {
   "cell_type": "code",
   "execution_count": null,
   "outputs": [],
   "source": [],
   "metadata": {
    "collapsed": false,
    "pycharm": {
     "name": "#%%\n"
    }
   }
  }
 ],
 "metadata": {
  "kernelspec": {
   "display_name": "Python 3",
   "language": "python",
   "name": "python3"
  },
  "language_info": {
   "codemirror_mode": {
    "name": "ipython",
    "version": 3
   },
   "file_extension": ".py",
   "mimetype": "text/x-python",
   "name": "python",
   "nbconvert_exporter": "python",
   "pygments_lexer": "ipython3",
   "version": "3.7.8"
  }
 },
 "nbformat": 4,
 "nbformat_minor": 4
}