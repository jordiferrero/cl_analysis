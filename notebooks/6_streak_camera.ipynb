{
 "cells": [
  {
   "cell_type": "markdown",
   "metadata": {},
   "source": [
    "# Loading Streak camera data"
   ]
  },
  {
   "cell_type": "code",
   "execution_count": 23,
   "metadata": {},
   "outputs": [],
   "source": [
    "%matplotlib qt\n",
    "import os, glob\n",
    "import numpy as np\n",
    "import lumispy as lum\n",
    "import hyperspy.api as hs\n",
    "import matplotlib.pyplot as plt\n",
    "import addcopyfighandler"
   ]
  },
  {
   "cell_type": "code",
   "execution_count": 73,
   "metadata": {
    "collapsed": false,
    "jupyter": {
     "outputs_hidden": false
    },
    "pycharm": {
     "name": "#%%\n"
    }
   },
   "outputs": [
    {
     "data": {
      "text/plain": [
       "['G:\\\\My Drive\\\\PhD\\\\projects\\\\external_measurements\\\\20211118_CL_Mn_doped_NCs_Sascha\\\\STREAK\\\\STREAK101_A_130k_478nm_timerange4_10nA_laser5p5_dwellt10ms_z30.dac',\n",
       " 'G:\\\\My Drive\\\\PhD\\\\projects\\\\external_measurements\\\\20211118_CL_Mn_doped_NCs_Sascha\\\\STREAK\\\\STREAK102_A_147k_478nm_timerange4_10nA_laser5p5_dwellt10ms_z0.dac',\n",
       " 'G:\\\\My Drive\\\\PhD\\\\projects\\\\external_measurements\\\\20211118_CL_Mn_doped_NCs_Sascha\\\\STREAK\\\\STREAK103_F_120k_478nm_timerange4_10nA_laser5p5_dwellt10ms_z0.dac',\n",
       " 'G:\\\\My Drive\\\\PhD\\\\projects\\\\external_measurements\\\\20211118_CL_Mn_doped_NCs_Sascha\\\\STREAK\\\\STREAK104_F_130k_478nm_timerange4_10nA_laser5p5_dwellt10ms_z30.dac',\n",
       " 'G:\\\\My Drive\\\\PhD\\\\projects\\\\external_measurements\\\\20211118_CL_Mn_doped_NCs_Sascha\\\\STREAK\\\\STREAK1_B_200k_474p5nm_timerange4_10nA_laser5p5_dwellt10ms.dac',\n",
       " 'G:\\\\My Drive\\\\PhD\\\\projects\\\\external_measurements\\\\20211118_CL_Mn_doped_NCs_Sascha\\\\STREAK\\\\STREAK2_E_200k_474p5nm_timerange4_10nA_laser5p5_dwellt10ms.dac',\n",
       " 'G:\\\\My Drive\\\\PhD\\\\projects\\\\external_measurements\\\\20211118_CL_Mn_doped_NCs_Sascha\\\\STREAK\\\\STREAK3_E_220k_475nm_timerange4_10nA_laser5p5_dwellt10ms_sameSpot.dac',\n",
       " 'G:\\\\My Drive\\\\PhD\\\\projects\\\\external_measurements\\\\20211118_CL_Mn_doped_NCs_Sascha\\\\STREAK\\\\STREAK4_B_340k_475nm_timerange4_10nA_laser5p5_dwellt10ms_sameSpot.dac']"
      ]
     },
     "execution_count": 73,
     "metadata": {},
     "output_type": "execute_result"
    }
   ],
   "source": [
    "# PARAMS\n",
    "root = os.path.abspath('G:\\My Drive\\PhD')\n",
    "session = r'projects\\external_measurements\\20211118_CL_Mn_doped_NCs_Sascha'\n",
    "stacks_folder = 'STREAK'\n",
    "file_end = '*.dac'\n",
    "\n",
    "files = glob.glob(os.path.join(root, session, stacks_folder, file_end))\n",
    "files"
   ]
  },
  {
   "cell_type": "markdown",
   "metadata": {
    "pycharm": {
     "name": "#%% md\n"
    }
   },
   "source": [
    "Get the metadata from the `.tif` file"
   ]
  },
  {
   "cell_type": "code",
   "execution_count": 63,
   "metadata": {
    "collapsed": false,
    "jupyter": {
     "outputs_hidden": false
    },
    "pycharm": {
     "name": "#%%\n"
    }
   },
   "outputs": [],
   "source": [
    "def get_md_dictionary_from_hs_tif_file(hs_tif_file):\n",
    "    md_dict = {}\n",
    "    md = hs_tif_file.original_metadata.ImageDescription.split('\\r\\n')\n",
    "    for m in md:\n",
    "        l = m.split(\",\")\n",
    "        sub_dict = {}\n",
    "        for i in l:\n",
    "            try:\n",
    "                k,v = i.split('=')\n",
    "            except Exception:\n",
    "                k = i\n",
    "                v = False\n",
    "            sub_dict[k] = v\n",
    "        category_name = l[0].replace('[', '').replace(']','')\n",
    "        md_dict[category_name] = sub_dict\n",
    "    return md_dict"
   ]
  },
  {
   "cell_type": "markdown",
   "metadata": {
    "pycharm": {
     "name": "#%% md\n"
    }
   },
   "source": [
    "Load the `.dac` data"
   ]
  },
  {
   "cell_type": "code",
   "execution_count": 139,
   "metadata": {
    "collapsed": false,
    "jupyter": {
     "outputs_hidden": false
    },
    "pycharm": {
     "name": "#%%\n"
    }
   },
   "outputs": [],
   "source": [
    "# Tidy file\n",
    "def get_axes_units(np_data):\n",
    "    units = np_data[0,0]\n",
    "    units_y, units_x = units.split('|')\n",
    "    return units_x, units_y\n",
    "\n",
    "def get_x_y_axes(np_data):\n",
    "    x_axis = np_data[:1,1:].flatten()\n",
    "    y_axis = np_data[1:,:1].flatten()\n",
    "    return x_axis.astype(float), y_axis.astype(float)\n",
    "\n",
    "def get_data_matrix(np_data):\n",
    "    data = np_data[1:,1:]\n",
    "    return data.astype(int)\n",
    "\n",
    "def load_dac_file(dac_file_path, metadata=None,\n",
    "                  original_metadata=None, to_linear_axes=False):\n",
    "\n",
    "    with open(dac_file_path, 'r') as reader:\n",
    "        dat = reader.readlines()\n",
    "        dat = np.array([d.split('\\t') for d in dat])\n",
    "        dat = np.char.strip(dat, '\\n')\n",
    "\n",
    "    units = get_axes_units(dat)\n",
    "    axes = get_x_y_axes(dat)\n",
    "    data = get_data_matrix(dat)\n",
    "\n",
    "    if to_linear_axes:\n",
    "        from hyperspy.axes import UniformDataAxis\n",
    "        x_offset = axes[0].min()\n",
    "        x_size = len(axes[0])\n",
    "        x_scale = (axes[0].max() - x_offset) / x_size\n",
    "        x_axis = UniformDataAxis(scale=x_scale, offset=x_offset, size=x_size,\n",
    "                                 name='Energy', units=units[0], navigate=False)\n",
    "\n",
    "        y_offset = axes[1].min()\n",
    "        y_size = len(axes[1])\n",
    "        y_scale = (axes[1].max() - y_offset) / y_size\n",
    "        y_axis = UniformDataAxis(scale=y_scale, offset=y_offset, size=y_size,\n",
    "                                 name='Time', units=units[1], navigate=False)\n",
    "\n",
    "        axes_dict = (y_axis.get_axis_dictionary(), x_axis.get_axis_dictionary())\n",
    "\n",
    "    else:\n",
    "        from hyperspy.axes import DataAxis\n",
    "        x_axis = DataAxis(axis=axes[0], name='Energy', units=units[0], navigate=False)\n",
    "        y_axis = DataAxis(axis=axes[1], name='Time', units=units[1], navigate=False)\n",
    "        axes_dict = (y_axis.get_axis_dictionary(), x_axis.get_axis_dictionary())\n",
    "\n",
    "    s = lum.signals.luminescence_transient.LumiTransient(data, axes=axes_dict)\n",
    "    #s = hs.signals.Signal2D(data, axes=axes_dict)\n",
    "\n",
    "    if metadata is not None:\n",
    "        s.metadata = metadata\n",
    "    if original_metadata is not None:\n",
    "        s.original_metadata = original_metadata\n",
    "    try:\n",
    "        s.metadata.General.title = s.metadata.General.original_filename.split('.')[0]\n",
    "    except Exception:\n",
    "        print('No file name found.')\n",
    "\n",
    "    return s"
   ]
  },
  {
   "cell_type": "code",
   "execution_count": 157,
   "metadata": {
    "collapsed": false,
    "jupyter": {
     "outputs_hidden": false
    },
    "pycharm": {
     "name": "#%%\n"
    }
   },
   "outputs": [
    {
     "data": {
      "text/plain": [
       "[<LumiTransient, title: STREAK101_A_130k_478nm_timerange4_10nA_laser5p5_dwellt10ms_z30, dimensions: (|672, 508)>,\n",
       " <LumiTransient, title: STREAK102_A_147k_478nm_timerange4_10nA_laser5p5_dwellt10ms_z0, dimensions: (|672, 508)>,\n",
       " <LumiTransient, title: STREAK103_F_120k_478nm_timerange4_10nA_laser5p5_dwellt10ms_z0, dimensions: (|672, 508)>,\n",
       " <LumiTransient, title: STREAK104_F_130k_478nm_timerange4_10nA_laser5p5_dwellt10ms_z30, dimensions: (|672, 508)>,\n",
       " <LumiTransient, title: STREAK1_B_200k_474p5nm_timerange4_10nA_laser5p5_dwellt10ms, dimensions: (|672, 508)>,\n",
       " <LumiTransient, title: STREAK2_E_200k_474p5nm_timerange4_10nA_laser5p5_dwellt10ms, dimensions: (|672, 508)>,\n",
       " <LumiTransient, title: STREAK3_E_220k_475nm_timerange4_10nA_laser5p5_dwellt10ms_sameSpot, dimensions: (|672, 508)>,\n",
       " <LumiTransient, title: STREAK4_B_340k_475nm_timerange4_10nA_laser5p5_dwellt10ms_sameSpot, dimensions: (|672, 508)>]"
      ]
     },
     "execution_count": 157,
     "metadata": {},
     "output_type": "execute_result"
    }
   ],
   "source": [
    "force_linear_axes = True\n",
    "\n",
    "streaks = []\n",
    "for f in files[:]:\n",
    "    f_name = os.path.basename(f).split('.')[0]\n",
    "    dir_name = os.path.dirname(f)\n",
    "    f_md = os.path.join(dir_name, f\"{f_name}.tif\")\n",
    "    f_md = hs.load(f_md)\n",
    "    md = get_md_dictionary_from_hs_tif_file(f_md)\n",
    "    streak = load_dac_file(f, metadata=f_md.metadata, #original_metadata=md,\n",
    "                           to_linear_axes=force_linear_axes)\n",
    "    #streak.save(os.path.join(dir_name, f\"{f_name}.hspy\"))\n",
    "    streaks.append(streak)\n",
    "\n",
    "streaks"
   ]
  },
  {
   "cell_type": "code",
   "execution_count": 141,
   "metadata": {
    "collapsed": false,
    "jupyter": {
     "outputs_hidden": false
    },
    "pycharm": {
     "name": "#%%\n"
    }
   },
   "outputs": [],
   "source": [
    "streaks[1].plot(aspect=\"auto\", cmap='viridis')"
   ]
  },
  {
   "cell_type": "markdown",
   "metadata": {
    "pycharm": {
     "name": "#%% md\n"
    }
   },
   "source": [
    "#  Plot the results"
   ]
  },
  {
   "cell_type": "code",
   "execution_count": 110,
   "metadata": {
    "collapsed": false,
    "jupyter": {
     "outputs_hidden": false
    },
    "pycharm": {
     "name": "#%%\n"
    }
   },
   "outputs": [],
   "source": [
    "def plot_contour_of_streak(transient_lumi, nbins=15, cmap='viridis', figsize=(6,4),\n",
    "                           annotation=None):\n",
    "\n",
    "\n",
    "    scan_name = transient_lumi.metadata.General.title\n",
    "\n",
    "    axes = transient_lumi.axes_manager.signal_axes\n",
    "    x = axes[0].axis\n",
    "    t = axes[1].axis\n",
    "    dat = transient_lumi.data\n",
    "\n",
    "    vmax = np.quantile(dat, q=0.99)\n",
    "    X, Y = np.meshgrid(x,t)\n",
    "\n",
    "    from matplotlib.colors import BoundaryNorm\n",
    "    from matplotlib.ticker import MaxNLocator\n",
    "    levels = MaxNLocator(nbins=nbins).tick_values(0, vmax)\n",
    "    cmap = plt.get_cmap(cmap)\n",
    "    norm = BoundaryNorm(levels, ncolors=cmap.N, clip=True)\n",
    "\n",
    "    f, ax = plt.subplots(figsize=figsize)\n",
    "    im = ax.pcolormesh(X, Y, dat, cmap=cmap, norm=norm)\n",
    "    f.colorbar(im, ax=ax)\n",
    "    ax.set_xlabel(f\"{axes[0].name} ({axes[0].units})\")\n",
    "    ax.set_ylabel(f\"{axes[1].name} ({axes[1].units})\")\n",
    "    ax.invert_yaxis()\n",
    "    f.suptitle(scan_name)\n",
    "    if annotation is not None:\n",
    "        ax.annotate(annotation,\n",
    "            xy=(0.95,0.05), xycoords='axes fraction',\n",
    "            horizontalalignment='right', verticalalignment='bottom',\n",
    "            bbox=dict(boxstyle=\"round\", fc=\"white\", alpha=0.8))\n",
    "    plt.tight_layout()\n",
    "    return f"
   ]
  },
  {
   "cell_type": "code",
   "execution_count": 111,
   "metadata": {
    "collapsed": false,
    "jupyter": {
     "outputs_hidden": false
    },
    "pycharm": {
     "name": "#%%\n"
    }
   },
   "outputs": [
    {
     "name": "stderr",
     "output_type": "stream",
     "text": [
      "C:\\Users\\jf631\\miniconda3\\envs\\lumispy\\lib\\site-packages\\ipykernel_launcher.py:22: MatplotlibDeprecationWarning: shading='flat' when X and Y have the same dimensions as C is deprecated since 3.3.  Either specify the corners of the quadrilaterals with X and Y, or pass shading='auto', 'nearest' or 'gouraud', or set rcParams['pcolor.shading'].  This will become an error two minor releases later.\n"
     ]
    }
   ],
   "source": [
    "i=1\n",
    "fig = plot_contour_of_streak(streaks[i])"
   ]
  },
  {
   "cell_type": "code",
   "execution_count": 56,
   "metadata": {
    "collapsed": false,
    "jupyter": {
     "outputs_hidden": false
    },
    "pycharm": {
     "name": "#%%\n"
    }
   },
   "outputs": [
    {
     "name": "stderr",
     "output_type": "stream",
     "text": [
      "C:\\Users\\jf631\\miniconda3\\envs\\lumispy\\lib\\site-packages\\ipykernel_launcher.py:22: MatplotlibDeprecationWarning: shading='flat' when X and Y have the same dimensions as C is deprecated since 3.3.  Either specify the corners of the quadrilaterals with X and Y, or pass shading='auto', 'nearest' or 'gouraud', or set rcParams['pcolor.shading'].  This will become an error two minor releases later.\n"
     ]
    }
   ],
   "source": [
    "for s in streaks[:]:\n",
    "    exp_t = s.original_metadata['Acquisition']['ExposureTime']\n",
    "    reps = int(s.original_metadata['Acquisition']['NrExposure'])\n",
    "    annotation = f\"{exp_t} ({reps:,} reps)\"\n",
    "    fig = plot_contour_of_streak(s, annotation=annotation)\n",
    "    name = f\"{s.metadata.General.title}.png\"\n",
    "    path = os.path.join(root, session, stacks_folder, 'plots', name)\n",
    "    plt.savefig(path)\n",
    "    plt.close()"
   ]
  },
  {
   "cell_type": "markdown",
   "metadata": {
    "pycharm": {
     "name": "#%% md\n"
    }
   },
   "source": [
    "# Streak camera interactive plotting (NOT WORKING FOR NON-LINEAR AXES)\n",
    "\n",
    "Select vertical and horizontal integration windows to get time decay and energy distribution."
   ]
  },
  {
   "cell_type": "code",
   "execution_count": 158,
   "metadata": {
    "collapsed": false,
    "jupyter": {
     "outputs_hidden": false
    },
    "pycharm": {
     "name": "#%%\n"
    }
   },
   "outputs": [],
   "source": [
    "# Set file to plot\n",
    "\n",
    "i = 0\n",
    "im = streaks[i]"
   ]
  },
  {
   "cell_type": "code",
   "execution_count": 198,
   "metadata": {
    "collapsed": false,
    "jupyter": {
     "outputs_hidden": false
    },
    "pycharm": {
     "name": "#%%\n"
    }
   },
   "outputs": [
    {
     "data": {
      "text/plain": [
       "(452.3333952380952, 722.337, 499.3097857142857, 1998.4849429133858)"
      ]
     },
     "execution_count": 198,
     "metadata": {},
     "output_type": "execute_result"
    }
   ],
   "source": [
    "# Set default integration windows\n",
    "energy_range = im.axes_manager.signal_axes[0].axis\n",
    "time_range = im.axes_manager.signal_axes[1].axis\n",
    "\n",
    "energy_roi_range = (np.quantile(energy_range, q=0.25),\n",
    "                  time_range.min(),\n",
    "                  np.quantile(energy_range, q=0.75),\n",
    "                  time_range.max(),)\n",
    "\n",
    "time_roi_range = (energy_range.min(),\n",
    "            np.quantile(time_range, q=0.15),\n",
    "            energy_range.max(),\n",
    "            np.quantile(time_range, q=0.75),)\n",
    "\n",
    "energy_roi_range"
   ]
  },
  {
   "cell_type": "code",
   "execution_count": 199,
   "metadata": {
    "collapsed": false,
    "jupyter": {
     "outputs_hidden": false
    },
    "pycharm": {
     "name": "#%%\n"
    }
   },
   "outputs": [],
   "source": [
    "# Plot interactively\n",
    "im.plot(aspect=\"auto\", cmap='viridis')\n",
    "energy_roi = hs.roi.RectangularROI(*energy_roi_range)\n",
    "energy_roi_i = energy_roi.interactive(im, color=\"C0\")\n",
    "energy_line = hs.interactive(energy_roi_i.sum,\n",
    "                             event=energy_roi.events.changed,\n",
    "                             axis=1,\n",
    "                             recompute_out_event=None,)\n",
    "\n",
    "time_roi = hs.roi.RectangularROI(*time_roi_range)\n",
    "time_roi_i = time_roi.interactive(im, color=\"C1\")\n",
    "time_line = hs.interactive(time_roi_i.sum,\n",
    "                             event=time_roi.events.changed,\n",
    "                             axis=0,\n",
    "                             recompute_out_event=None,)\n",
    "\n",
    "energy_line.plot(color='C0')\n",
    "time_line.plot(color='C1')\n"
   ]
  },
  {
   "cell_type": "code",
   "execution_count": 194,
   "metadata": {
    "collapsed": false,
    "jupyter": {
     "outputs_hidden": false
    },
    "pycharm": {
     "name": "#%%\n"
    }
   },
   "outputs": [],
   "source": []
  },
  {
   "cell_type": "code",
   "execution_count": null,
   "metadata": {
    "collapsed": false,
    "jupyter": {
     "outputs_hidden": false
    },
    "pycharm": {
     "name": "#%%\n"
    }
   },
   "outputs": [],
   "source": []
  }
 ],
 "metadata": {
  "kernelspec": {
   "display_name": "Python 3",
   "language": "python",
   "name": "python3"
  },
  "language_info": {
   "codemirror_mode": {
    "name": "ipython",
    "version": 3
   },
   "file_extension": ".py",
   "mimetype": "text/x-python",
   "name": "python",
   "nbconvert_exporter": "python",
   "pygments_lexer": "ipython3",
   "version": "3.7.9"
  }
 },
 "nbformat": 4,
 "nbformat_minor": 4
}
