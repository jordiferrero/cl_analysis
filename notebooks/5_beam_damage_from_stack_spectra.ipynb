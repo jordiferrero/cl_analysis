{
 "cells": [
  {
   "cell_type": "markdown",
   "metadata": {},
   "source": [
    "# Dealing with spectra stacks objects\n",
    "\n",
    "This is to deal with the new feature from Attolight software (Jan 2021)."
   ]
  },
  {
   "cell_type": "code",
   "execution_count": 1,
   "metadata": {},
   "outputs": [],
   "source": [
    "%matplotlib qt\n",
    "import os, glob\n",
    "import numpy as np\n",
    "import pandas as pd\n",
    "import lumispy as lum"
   ]
  },
  {
   "cell_type": "code",
   "execution_count": 20,
   "metadata": {
    "collapsed": false,
    "jupyter": {
     "outputs_hidden": false
    },
    "pycharm": {
     "name": "#%%\n"
    }
   },
   "outputs": [],
   "source": [
    "bkg_substracted = True\n",
    "overwrite_processed_files = False\n",
    "\n",
    "# PARAMS\n",
    "root = os.path.abspath(r'F:\\HYPCards_PROD')\n",
    "session = os.path.relpath(r'20220630-JORDI')\n",
    "stacks_folder = 'SPECTRAS'\n",
    "\n",
    "file_end = '*V-B.txt' if bkg_substracted else '*V.txt'"
   ]
  },
  {
   "cell_type": "code",
   "execution_count": 21,
   "metadata": {
    "collapsed": false,
    "jupyter": {
     "outputs_hidden": false
    },
    "pycharm": {
     "name": "#%%\n"
    }
   },
   "outputs": [
    {
     "name": "stdout",
     "output_type": "stream",
     "text": [
      "Creation of the directory failed\n"
     ]
    }
   ],
   "source": [
    "# Create the 2 directories necessary to store files\n",
    "\n",
    "p1 = os.path.join(root, session, stacks_folder, 'processed_to_df')\n",
    "p2 = os.path.join(root, session, stacks_folder, 'plots')\n",
    "\n",
    "try:\n",
    "    os.mkdir(p1)\n",
    "    os.mkdir(p2)\n",
    "except OSError:\n",
    "    print (\"Creation of the directory failed\")\n",
    "else:\n",
    "    print (\"Successfully created the directories\")"
   ]
  },
  {
   "cell_type": "raw",
   "metadata": {
    "pycharm": {
     "name": "#%% raw\n"
    }
   },
   "source": [
    "\n",
    "# Load without the time axis\n",
    "for base, dirs, _ in os.walk(os.path.join(root, session, stacks_folder)):\n",
    "    for dir in dirs[:]:\n",
    "        if dir == 'processed_to_df':\n",
    "            continue\n",
    "        else:\n",
    "            generic_path = os.path.join(base, dir, file_end)\n",
    "            files = [p for p in glob.glob(generic_path,recursive=True)]\n",
    "\n",
    "            x = np.loadtxt(files[0])[:,0]\n",
    "\n",
    "            df = pd.DataFrame(x, columns=['x_nm'])\n",
    "            for i,f in enumerate(files):\n",
    "\n",
    "                df['scan_{}'.format(i)] = np.loadtxt(f)[:,1]\n",
    "\n",
    "            s = '-B.csv' if bkg_substracted else '.csv'\n",
    "            save_path = os.path.join(base, 'processed_to_df', dir+s)\n",
    "            df.to_csv(save_path, index=False)\n"
   ]
  },
  {
   "cell_type": "code",
   "execution_count": 22,
   "metadata": {
    "collapsed": false,
    "jupyter": {
     "outputs_hidden": false
    },
    "pycharm": {
     "name": "#%%\n"
    }
   },
   "outputs": [],
   "source": [
    "# Load with the time axis\n",
    "for base, dirs, _ in os.walk(os.path.join(root, session, stacks_folder)):\n",
    "    for dir in dirs[:]:\n",
    "        # Ignore these 2 folders... do no look for raw files in here.\n",
    "        if dir in ['processed_to_df', 'plots']:\n",
    "            continue\n",
    "        else:\n",
    "            s = '-time-B.csv' if bkg_substracted else '-time.csv'\n",
    "            save_path = os.path.join(base, 'processed_to_df', dir+s)\n",
    "            \n",
    "            # Skip if file has already been processed\n",
    "            if os.path.exists(save_path) and not overwrite_processed_files:\n",
    "                continue\n",
    "            \n",
    "            status_file  = os.path.join(base, dir, 'MicroscopeStatus.txt')\n",
    "            with open(status_file, encoding='windows-1252') as status:\n",
    "                for line in status:\n",
    "                    if 'exposureTime' in line:\n",
    "                        exp_t_s = float(line.split(':')[1])\n",
    "\n",
    "            generic_path = os.path.join(base, dir, file_end)\n",
    "            files = [p for p in glob.glob(generic_path,recursive=True)]\n",
    "            files = sorted(files)\n",
    "            x = np.loadtxt(files[0])[:,0]\n",
    "\n",
    "            df = pd.DataFrame(x, columns=['x_nm'])\n",
    "            for i,f in enumerate(files):\n",
    "\n",
    "                df['{}'.format((i+1)*exp_t_s)] = np.loadtxt(f)[:,1]\n",
    "\n",
    "            # Remove spikes\n",
    "            dat = df.iloc[:,1:].values.transpose()\n",
    "            cl = lum.signals.CLSpectrum(dat)\n",
    "            cl.remove_spikes(inplace=True)\n",
    "\n",
    "            dat = cl.data\n",
    "            dat = np.vstack([x, dat]).transpose()\n",
    "            df_corrected = pd.DataFrame(dat, columns=df.columns)\n",
    "            df_corrected\n",
    "\n",
    "            df_corrected.to_csv(save_path, index=False)\n",
    "\n",
    "            print(dir+s)"
   ]
  },
  {
   "cell_type": "markdown",
   "metadata": {
    "pycharm": {
     "name": "#%% md\n"
    }
   },
   "source": [
    "#  Plot the results"
   ]
  },
  {
   "cell_type": "code",
   "execution_count": 23,
   "metadata": {
    "collapsed": false,
    "jupyter": {
     "outputs_hidden": false
    },
    "pycharm": {
     "name": "#%%\n"
    }
   },
   "outputs": [],
   "source": [
    "%matplotlib qt\n",
    "import os, glob\n",
    "import lumispy as lum\n",
    "import numpy as np\n",
    "import pandas as pd\n",
    "import matplotlib.pyplot as plt\n",
    "import addcopyfighandler"
   ]
  },
  {
   "cell_type": "code",
   "execution_count": 24,
   "metadata": {
    "collapsed": false,
    "jupyter": {
     "outputs_hidden": false
    },
    "pycharm": {
     "name": "#%%\n"
    }
   },
   "outputs": [
    {
     "data": {
      "text/plain": [
       "[('i=0', 'SPECTRAS-1-time-B.csv'),\n",
       " ('i=1', 'SPECTRAS-2-time-B.csv'),\n",
       " ('i=2', 'SPECTRAS-3-time-B.csv'),\n",
       " ('i=3', 'SPECTRAS-4-time-B.csv'),\n",
       " ('i=4', 'SPECTRAS-5-time-B.csv'),\n",
       " ('i=5', 'SPECTRAS-6-time-B.csv'),\n",
       " ('i=6', 'SPECTRAS-7-time-B.csv'),\n",
       " ('i=7', 'SPECTRAS-8-time-B.csv'),\n",
       " ('i=8', 'SPECTRAS-9-time-B.csv')]"
      ]
     },
     "execution_count": 24,
     "metadata": {},
     "output_type": "execute_result"
    }
   ],
   "source": [
    "# PARAMS\n",
    "# root = os.path.abspath('G:\\My Drive\\PhD\\projects\\external_measurements')\n",
    "# session = os.path.relpath(r'20220118-CsAgBiBr3_2D_3D_films')\n",
    "stacks_folder = 'SPECTRAS'\n",
    "\n",
    "file_end = '*time-B.csv' if bkg_substracted else '*-time.csv'\n",
    "\n",
    "path = os.path.join(root, session, stacks_folder, 'processed_to_df', file_end)\n",
    "files = [p for p in glob.glob(path,recursive=True)]\n",
    "[('i={}'.format(i), os.path.basename(f)) for i,f in enumerate(files)]"
   ]
  },
  {
   "cell_type": "markdown",
   "metadata": {
    "pycharm": {
     "name": "#%% md\n"
    }
   },
   "source": [
    "Select one of the files to plot"
   ]
  },
  {
   "cell_type": "code",
   "execution_count": 25,
   "metadata": {
    "collapsed": false,
    "jupyter": {
     "outputs_hidden": false
    },
    "pycharm": {
     "name": "#%%\n"
    }
   },
   "outputs": [
    {
     "name": "stderr",
     "output_type": "stream",
     "text": [
      "C:\\ProgramData\\Miniconda3\\envs\\lumispy\\lib\\site-packages\\ipykernel_launcher.py:28: MatplotlibDeprecationWarning: shading='flat' when X and Y have the same dimensions as C is deprecated since 3.3.  Either specify the corners of the quadrilaterals with X and Y, or pass shading='auto', 'nearest' or 'gouraud', or set rcParams['pcolor.shading'].  This will become an error two minor releases later.\n"
     ]
    },
    {
     "data": {
      "image/png": "[encoded data removed]",
      "text/plain": [
       "<Figure size 600x400 with 2 Axes>"
      ]
     },
     "execution_count": 25,
     "metadata": {},
     "output_type": "execute_result"
    }
   ],
   "source": [
    "def plot_contour_of_stack_dp(csv_file, nbins=15, cmap='viridis', figsize=(6,4)):\n",
    "\n",
    "    scan_name = os.path.basename(csv_file).split('.')[0]\n",
    "\n",
    "    df = pd.read_csv(csv_file)\n",
    "    x = df['x_nm']\n",
    "    df.pop('x_nm')\n",
    "    skip_t = 0\n",
    "    df = df.iloc[:,skip_t:]\n",
    "    t = np.array(list(df.columns), dtype='float32')\n",
    "    t_diff = t[1] - t[0]\n",
    "    if t[0] != 0:\n",
    "        t_subtract = skip_t * t_diff\n",
    "        t = t - t_subtract\n",
    "    dat = df.to_numpy()\n",
    "    \n",
    "    vmin = np.quantile(dat, q=0.0001)\n",
    "    vmax = np.quantile(dat, q=0.9999)\n",
    "    X, Y = np.meshgrid(t,x)\n",
    "\n",
    "    from matplotlib.colors import BoundaryNorm\n",
    "    from matplotlib.ticker import MaxNLocator\n",
    "    levels = MaxNLocator(nbins=nbins).tick_values(vmin, vmax)\n",
    "    cmap = plt.get_cmap(cmap)\n",
    "    norm = BoundaryNorm(levels, ncolors=cmap.N, clip=True)\n",
    "\n",
    "    f, ax = plt.subplots(figsize=figsize)\n",
    "    im = ax.pcolormesh(X, Y, dat, cmap=cmap, norm=norm)\n",
    "    f.colorbar(im, ax=ax)\n",
    "    ax.set_ylabel(\"Wavelength (nm)\")\n",
    "    ax.set_xlabel(\"Acquisition time (s)\")\n",
    "    f.suptitle(scan_name)\n",
    "    plt.tight_layout()\n",
    "    return f\n",
    "\n",
    "plot_contour_of_stack_dp(files[-1])"
   ]
  },
  {
   "cell_type": "code",
   "execution_count": 26,
   "metadata": {
    "collapsed": false,
    "jupyter": {
     "outputs_hidden": false
    },
    "pycharm": {
     "name": "#%%\n"
    }
   },
   "outputs": [
    {
     "name": "stderr",
     "output_type": "stream",
     "text": [
      "C:\\ProgramData\\Miniconda3\\envs\\lumispy\\lib\\site-packages\\ipykernel_launcher.py:28: MatplotlibDeprecationWarning: shading='flat' when X and Y have the same dimensions as C is deprecated since 3.3.  Either specify the corners of the quadrilaterals with X and Y, or pass shading='auto', 'nearest' or 'gouraud', or set rcParams['pcolor.shading'].  This will become an error two minor releases later.\n"
     ]
    }
   ],
   "source": [
    "for f in files[:]:\n",
    "    fig = plot_contour_of_stack_dp(f)\n",
    "    name = os.path.basename(f).split('.')[0] + '.png'\n",
    "    path = os.path.join(root, session, stacks_folder, 'plots', name)\n",
    "    plt.savefig(path)\n",
    "    plt.close()"
   ]
  },
  {
   "cell_type": "code",
   "execution_count": 37,
   "metadata": {
    "collapsed": false,
    "jupyter": {
     "outputs_hidden": false
    },
    "pycharm": {
     "name": "#%%\n"
    }
   },
   "outputs": [
    {
     "data": {
      "text/plain": [
       "(<Figure size 600x400 with 1 Axes>, <Figure size 600x400 with 1 Axes>)"
      ]
     },
     "execution_count": 37,
     "metadata": {},
     "output_type": "execute_result"
    }
   ],
   "source": [
    "# Plot spectra evolution on 1D plot\n",
    "\n",
    "def plot_lineplot_of_stack_dp(csv_file, cmap='viridis', figsize=(6,4), normalise=False, xlim=None):\n",
    "\n",
    "    scan_name = os.path.basename(csv_file).split('.')[0]\n",
    "\n",
    "    df = pd.read_csv(csv_file)\n",
    "\n",
    "    # Normalise data\n",
    "    if normalise:\n",
    "        df_norm = df.iloc[:,1:]\n",
    "        df_norm = (df_norm-df_norm.min())/(df_norm.max()-df_norm.min())\n",
    "        df = pd.concat([df.iloc[:,0], df_norm], axis=1)\n",
    "\n",
    "    # Melt dataframe to have lines\n",
    "    df = df.melt('x_nm', var_name='ts',  value_name='ys')\n",
    "    df = df.astype('float')\n",
    "\n",
    "    import seaborn as sns\n",
    "    sns.set_style('whitegrid')\n",
    "    f, ax = plt.subplots(figsize=figsize)\n",
    "    sns.lineplot(x=\"x_nm\", y=\"ys\", hue='ts', data=df, legend='brief', ax=ax, palette=cmap)\n",
    "\n",
    "\n",
    "    ax.set_ylabel(\"Intensity (a.u.)\")\n",
    "    ax.set_xlabel(\"Wavelength (nm)\")\n",
    "    if xlim is not None:\n",
    "        ax.set_xlim(xlim)\n",
    "    f.suptitle(scan_name)\n",
    "    plt.legend(loc='upper left')\n",
    "    plt.tight_layout()\n",
    "    return f\n",
    "\n",
    "plot_lineplot_of_stack_dp(files[-1]), plot_lineplot_of_stack_dp(files[-1], normalise=True)"
   ]
  },
  {
   "cell_type": "raw",
   "metadata": {
    "jupyter": {
     "outputs_hidden": false
    },
    "pycharm": {
     "name": "#%%\n"
    }
   },
   "source": [
    "for f in files[:]:\n",
    "    fig = plot_lineplot_of_stack_dp(f, cmap='viridis_r')\n",
    "    name = os.path.basename(f).split('.')[0] + '_lineplot.png'\n",
    "    path = os.path.join(root, session, stacks_folder, 'plots', name)\n",
    "    plt.savefig(path)\n",
    "    plt.close()\n",
    "\n",
    "#     fig = plot_lineplot_of_stack_dp(f, cmap='viridis_r', normalise=True, xlim=(350,800))\n",
    "#     name = os.path.basename(f).split('.')[0] + '_lineplot_norm.png'\n",
    "#     path = os.path.join(root, session, stacks_folder, 'plots', name)\n",
    "#     plt.savefig(path)\n",
    "#     plt.close()"
   ]
  },
  {
   "cell_type": "code",
   "execution_count": null,
   "metadata": {
    "collapsed": false,
    "jupyter": {
     "outputs_hidden": false
    },
    "pycharm": {
     "name": "#%%\n"
    }
   },
   "outputs": [],
   "source": []
  }
 ],
 "metadata": {
  "kernelspec": {
   "display_name": "Python 3",
   "language": "python",
   "name": "python3"
  },
  "language_info": {
   "codemirror_mode": {
    "name": "ipython",
    "version": 3
   },
   "file_extension": ".py",
   "mimetype": "text/x-python",
   "name": "python",
   "nbconvert_exporter": "python",
   "pygments_lexer": "ipython3",
   "version": "3.7.9"
  }
 },
 "nbformat": 4,
 "nbformat_minor": 4
}
