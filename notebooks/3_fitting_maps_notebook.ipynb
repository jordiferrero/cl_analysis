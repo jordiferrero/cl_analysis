{
 "cells": [
  {
   "cell_type": "markdown",
   "metadata": {},
   "source": [
    "# Fitting gaus and finding peaks of the maps\n",
    "\n",
    "This notebook is preliminary to the fitting script file.\n",
    "\n",
    "It's aim is to:\n",
    "\n",
    "- If any of the cl maps need to be cropped beforehand\n",
    "- To know the ideal INITIAL fitting parameters\n",
    "\n",
    "It also:\n",
    "- Finds peaks (for the position, height and width parameters)\n",
    "- Creates a spectral stack\n"
   ]
  },
  {
   "cell_type": "markdown",
   "metadata": {},
   "source": [
    "Import packages:"
   ]
  },
  {
   "cell_type": "code",
   "execution_count": 1,
   "metadata": {},
   "outputs": [
    {
     "name": "stderr",
     "output_type": "stream",
     "text": [
      "WARNING:hyperspy.api:The traitsui GUI elements are not available, probably because the hyperspy_gui_traitsui package is not installed.\n"
     ]
    }
   ],
   "source": [
    "%matplotlib qt\n",
    "#For pop-up window plots, with interactive functionality. If error, use instead %matplotlib tk \n",
    "import lumispy as lum\n",
    "import hyperspy.api as hs\n",
    "import numpy as np\n",
    "import matplotlib.pyplot as plt\n",
    "import seaborn as sns\n",
    "import os\n",
    "#sns.set(style='darkgrid')"
   ]
  },
  {
   "cell_type": "markdown",
   "metadata": {},
   "source": [
    "## Loading HYPCard files"
   ]
  },
  {
   "cell_type": "markdown",
   "metadata": {},
   "source": [
    "Use the `load_hypcard` function to load the AttoLight SEM specific files. State the relative path to the `HYPCard.bin` file.\n",
    "\n",
    "*You can also leave the path empty. A pop-up window will appear to select the `HYPCard.bin` file from the browser.*"
   ]
  },
  {
   "cell_type": "code",
   "execution_count": 2,
   "metadata": {},
   "outputs": [
    {
     "data": {
      "text/plain": "[('i=0', 'HYP-MAP1'),\n ('i=1', 'HYP-MAP1'),\n ('i=2', 'HYP-MAP2'),\n ('i=3', 'HYP-MAP2'),\n ('i=4', 'HYP-MAP3'),\n ('i=5', 'HYP-MAP4'),\n ('i=6', 'HYP-MAP5'),\n ('i=7', 'HYP-MAP6'),\n ('i=8', 'HYP-MAP7')]"
     },
     "execution_count": 2,
     "metadata": {},
     "output_type": "execute_result"
    }
   ],
   "source": [
    "# PARAMS\n",
    "root = os.path.abspath('G:\\My Drive\\PhD')\n",
    "session = os.path.relpath('projects/external_measurements/202103_Linsong_YuQi/20210322_CL_YuQi_samples')\n",
    "\n",
    "extension = '*\\*.hspy'\n",
    "####\n",
    "# GO TO AUTOMATISED TO GET GENERAL PROCESSED DATA\n",
    "import os, glob\n",
    "folder = os.path.join(root, session)\n",
    "session_path = os.path.join(root, session, extension)\n",
    "# For HYPMaps\n",
    "paths_hypmap = [p for p in glob.glob(session_path, recursive=True) if 'fit' not in p]\n",
    "paths_hypmap.sort()\n",
    "\n",
    "[('i={}'.format(i), os.path.split(os.path.dirname(f))[-1]) for i,f in enumerate(paths_hypmap)]"
   ]
  },
  {
   "cell_type": "code",
   "execution_count": 4,
   "metadata": {},
   "outputs": [
    {
     "name": "stdout",
     "output_type": "stream",
     "text": [
      "[<CLSEMSpectrum, title: HYP-MAP5, dimensions: (118, 118|1022)>, <CLSEMSpectrum, title: HYP-MAP6, dimensions: (118, 118|1022)>]\n"
     ]
    }
   ],
   "source": [
    "cls = hs.load(paths_hypmap, signal_type='CL_SEM')\n",
    "print(cls)"
   ]
  },
  {
   "cell_type": "code",
   "execution_count": 6,
   "outputs": [],
   "source": [
    "cls[1].plot()"
   ],
   "metadata": {
    "collapsed": false,
    "pycharm": {
     "name": "#%%\n"
    }
   }
  },
  {
   "cell_type": "markdown",
   "metadata": {},
   "source": [
    "## Select which maps need cropping before fitting\n",
    "\n",
    "Select `ith` file and if only a smaller region of the map needs to be fitted.\n",
    "\n",
    "If the map has been cropped, save the cropped_map in the folder as `*processed_roi.hspy`\n",
    "The script will prioritize the cropped map file over the original sized one."
   ]
  },
  {
   "cell_type": "code",
   "execution_count": 11,
   "metadata": {},
   "outputs": [],
   "source": [
    "#########   PARAMS   ######\n",
    "i = 1\n",
    "crop_roi = False\n",
    "\n",
    "##########################\n",
    "\n",
    "cl = cls[i]\n",
    "if crop_roi:\n",
    "    roi = hs.roi.RectangularROI(0,0,10,10)\n",
    "    cl.plot()\n",
    "    roi.interactive(cl)"
   ]
  },
  {
   "cell_type": "code",
   "execution_count": 12,
   "metadata": {},
   "outputs": [
    {
     "name": "stdout",
     "output_type": "stream",
     "text": [
      "Please answer y or n.\n"
     ]
    }
   ],
   "source": [
    "if crop_roi:\n",
    "    cl = roi(cl)\n",
    "    path_crop = os.path.join(os.path.dirname(paths_hypmap[i]),  'HYPCard_processed_cropped.hspy')\n",
    "    cl.save(path_crop)"
   ]
  },
  {
   "cell_type": "markdown",
   "metadata": {},
   "source": [
    "# Get the best initial parameters\n",
    "\n",
    "Get the fit for each map:\n",
    "Change the `parameters` within the `fit_3_gausians` function"
   ]
  },
  {
   "cell_type": "code",
   "execution_count": 13,
   "metadata": {},
   "outputs": [],
   "source": [
    "cl.sum().plot()"
   ]
  },
  {
   "cell_type": "code",
   "execution_count": 17,
   "metadata": {},
   "outputs": [
    {
     "data": {
      "text/plain": "<Model1D, title: HYP-MAP6>"
     },
     "execution_count": 17,
     "metadata": {},
     "output_type": "execute_result"
    }
   ],
   "source": [
    "# def fit_3_gaussians(cl_object):\n",
    "def fit_2_gaussians(cl_object):\n",
    "\n",
    "    # Create model (with 2 Gaussian)\n",
    "    m = cl_object.create_model()\n",
    "\n",
    "    g_pvk = hs.model.components1D.Expression(\n",
    "        expression=\"height * exp(-(x - x0) ** 2 * 4 * log(2)/ fwhm ** 2)\",\n",
    "        name=\"Perovskite\",\n",
    "        position=\"x0\",\n",
    "        height=1,\n",
    "        fwhm=1,\n",
    "        x0=1,\n",
    "        module=\"numpy\")\n",
    "\n",
    "    g_pbi2 = hs.model.components1D.Expression(\n",
    "        expression=\"height * exp(-(x - x0) ** 2 * 4 * log(2)/ fwhm ** 2)\",\n",
    "        name=\"PbI2\",\n",
    "        position=\"x0\",\n",
    "        height=1,\n",
    "        fwhm=1,\n",
    "        x0=1,\n",
    "        module=\"numpy\")\n",
    "\n",
    "    # g_decay = hs.model.components1D.Expression(\n",
    "    #     expression=\"height * exp(-(x - x0) ** 2 * 4 * log(2)/ fwhm ** 2)\",\n",
    "    #     name=\"Decay peak\",\n",
    "    #     position=\"x0\",\n",
    "    #     height=1,\n",
    "    #     fwhm=1,\n",
    "    #     x0=1,\n",
    "    #     module=\"numpy\")\n",
    "\n",
    "    bkg = hs.model.components1D.Offset()\n",
    "\n",
    "    #m.extend([g_pvk, g_pbi2, g_decay, bkg])\n",
    "    m.extend([g_pvk, g_pbi2, bkg])\n",
    "\n",
    "    # EDIT HERE\n",
    "    ######################\n",
    "    #COPY HERE\n",
    "    #Set limits to the gausians\n",
    "    g_pvk.x0.value = 750\n",
    "    g_pvk.x0.bmin, g_pvk.x0.bmax = 690, 810\n",
    "    g_pvk.height.value, g_pvk.height.bmin, g_pvk.height.bmax = 10, -10, 500\n",
    "    g_pvk.fwhm.value, g_pvk.fwhm.bmin, g_pvk.fwhm.bmax = 20, 0, 100\n",
    "    \n",
    "    g_pbi2.x0.value = 510\n",
    "    g_pbi2.x0.bmin, g_pbi2.x0.bmax = 470, 550\n",
    "    g_pbi2.height.value, g_pbi2.height.bmin, g_pbi2.height.bmax = 10, -10, 500\n",
    "    g_pbi2.fwhm.value, g_pbi2.fwhm.bmin, g_pbi2.fwhm.bmax = 20, 0, 100\n",
    "    \n",
    "    bkg.offset.value = 0\n",
    "    \n",
    "    # g_decay.x0.value = 650\n",
    "    # g_decay.x0.bmin, g_decay.x0.bmax = 510, 750\n",
    "    # g_decay.height.value, g_decay.height.bmin, g_decay.height.bmax = 10, -10, 100\n",
    "    # g_decay.fwhm.value, g_decay.fwhm.bmin, g_decay.fwhm.bmax = 20, 0, 100\n",
    "    #END COPY HERE\n",
    "    ######################\n",
    "    \n",
    "    \n",
    "    #Fit for all the positions\n",
    "    m.fit(bounded=True)\n",
    "\n",
    "    # Plot\n",
    "    import matplotlib.pyplot as plt\n",
    "    m.plot(plot_components=True)\n",
    "\n",
    "    return m\n",
    "\n",
    "# fit_3_gaussians(cl)\n",
    "fit_2_gaussians(cl)"
   ]
  },
  {
   "cell_type": "markdown",
   "metadata": {},
   "source": [
    "# RUN SCRIPT NOW\n",
    "\n",
    "In the script, you will need to update the fitting values to the ideal initial conditions found\n"
   ]
  },
  {
   "cell_type": "code",
   "execution_count": null,
   "metadata": {},
   "outputs": [],
   "source": []
  },
  {
   "cell_type": "markdown",
   "metadata": {},
   "source": [
    "# Post-script code\n",
    "\n",
    "Use this code to load the fitted models and plot them."
   ]
  },
  {
   "cell_type": "code",
   "execution_count": 35,
   "metadata": {},
   "outputs": [
    {
     "data": {
      "text/plain": "[('i=0', 'HYP-MAP5_binned_22_2_fitted.hspy'),\n ('i=1', 'HYP-MAP5_fitted.hspy'),\n ('i=2', 'HYP-MAP6_binned_22_2_fitted.hspy'),\n ('i=3', 'HYP-MAP6_fitted.hspy')]"
     },
     "execution_count": 35,
     "metadata": {},
     "output_type": "execute_result"
    }
   ],
   "source": [
    "extension = \"*fitted.hspy\"\n",
    "\n",
    "import os, glob\n",
    "folder = os.path.join(root, session, 'fit_imgs')\n",
    "session_path = os.path.join(folder, extension)\n",
    "\n",
    "# For HYPMaps\n",
    "paths_fits = [p for p in glob.glob(session_path, recursive=True)]\n",
    "paths_fits.sort()\n",
    "[('i={}'.format(i), os.path.basename(f)) for i,f in enumerate(paths_fits)]"
   ]
  },
  {
   "cell_type": "code",
   "execution_count": 40,
   "metadata": {},
   "outputs": [],
   "source": [
    "for f in paths_fits[:]:\n",
    "    cl = hs.load(f, signal_type='CL_SEM')\n",
    "    m = cl.models.restore(\"gaus_fit\")\n",
    "    #print(m.components)\n",
    "    \n",
    "    comps = [m.components.Perovskite.x0.as_signal(),\n",
    "         m.components.Perovskite.height.as_signal(),\n",
    "         m.components.Perovskite.fwhm.as_signal(),]\n",
    "\n",
    "    hs.plot.plot_images(comps, axes_decor='off',\n",
    "                        scalebar=[0], cmap=['nipy_spectral', 'viridis', 'inferno'],\n",
    "                        vmin=[780,0,0])\n",
    "    plt.tight_layout()\n"
   ]
  },
  {
   "cell_type": "code",
   "execution_count": 34,
   "metadata": {
    "pycharm": {
     "name": "#%%\n"
    }
   },
   "outputs": [],
   "source": [
    "\n"
   ]
  }
 ],
 "metadata": {
  "kernelspec": {
   "display_name": "Python 3",
   "language": "python",
   "name": "python3"
  },
  "language_info": {
   "codemirror_mode": {
    "name": "ipython",
    "version": 3
   },
   "file_extension": ".py",
   "mimetype": "text/x-python",
   "name": "python",
   "nbconvert_exporter": "python",
   "pygments_lexer": "ipython3",
   "version": "3.8.5"
  }
 },
 "nbformat": 4,
 "nbformat_minor": 4
}